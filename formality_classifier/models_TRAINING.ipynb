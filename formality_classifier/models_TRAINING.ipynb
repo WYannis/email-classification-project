{
 "cells": [
  {
   "cell_type": "markdown",
   "metadata": {},
   "source": [
    "# TRAINING of the 3 types of models "
   ]
  },
  {
   "cell_type": "markdown",
   "metadata": {},
   "source": [
    "### Libraries import"
   ]
  },
  {
   "cell_type": "code",
   "execution_count": 1,
   "metadata": {},
   "outputs": [],
   "source": [
    "import pickle as pk\n",
    "import time\n",
    "\n",
    "from sklearn import metrics\n",
    "from sklearn.model_selection import train_test_split\n",
    "from sklearn.preprocessing import MinMaxScaler,MaxAbsScaler, StandardScaler\n",
    "from sklearn.linear_model import LogisticRegression\n",
    "from sklearn.tree import DecisionTreeClassifier\n",
    "from sklearn.naive_bayes import MultinomialNB\n",
    "from sklearn.model_selection import cross_val_score\n",
    "from sklearn import preprocessing\n",
    "from sklearn.utils import shuffle"
   ]
  },
  {
   "cell_type": "markdown",
   "metadata": {},
   "source": [
    "### IMPORTATION OF THE FEATURES"
   ]
  },
  {
   "cell_type": "code",
   "execution_count": 4,
   "metadata": {},
   "outputs": [
    {
     "name": "stdout",
     "output_type": "stream",
     "text": [
      "Loading of the features...\n",
      "feature: linguistic_stats, dimension: (209124, 6)\n",
      "feature: readability_stats, dimension: (209124, 7)\n",
      "feature: POS_tags_stats, dimension: (209124, 10)\n",
      "Features succesfully loaded !\n"
     ]
    }
   ],
   "source": [
    "print(\"Loading of the features...\")\n",
    "\n",
    "ling_features = pk.load(open(\"linguistic_features.pk\", \"rb\"))\n",
    "read_features = pk.load(open(\"readability_features.pk\", \"rb\"))\n",
    "pos_features = pk.load(open(\"pos_features.pk\", \"rb\"))\n",
    "\n",
    "features = [(ling_features,\"linguistic_stats\"),\n",
    "            (read_features, \"readability_stats\"),\n",
    "            (pos_features, \"POS_tags_stats\")]\n",
    "\n",
    "for feature, name in features:\n",
    "    print(\"feature: {}, dimension: {}\".format(name, feature.shape))\n",
    "    \n",
    "print(\"Features succesfully loaded !\")"
   ]
  },
  {
   "cell_type": "code",
   "execution_count": 6,
   "metadata": {},
   "outputs": [
    {
     "name": "stdout",
     "output_type": "stream",
     "text": [
      "Loading of the GYAC corpus data...\n",
      "Data succesfully loaded ! \n"
     ]
    }
   ],
   "source": [
    "print(\"Loading of the GYAC corpus data...\")\n",
    "sent_dict = pk.load(open(\"corpus_dict.pk\", \"rb\"))\n",
    "label = sent_dict[\"label\"]\n",
    "print(\"Data succesfully loaded ! \")"
   ]
  },
  {
   "cell_type": "code",
   "execution_count": 14,
   "metadata": {},
   "outputs": [],
   "source": [
    "def get_scaled_feature(feature):\n",
    "    scaler = MinMaxScaler()\n",
    "    scaler2 = StandardScaler()\n",
    "    feature = scaler2.fit_transform(feature)\n",
    "    feature = scaler.fit_transform(feature)\n",
    "    return feature\n",
    "\n",
    "def get_standard_scaled_feature(feature):\n",
    "    scaler2 = StandardScaler()\n",
    "    feature = scaler2.fit_transform(feature)\n",
    "    return feature"
   ]
  },
  {
   "cell_type": "markdown",
   "metadata": {},
   "source": [
    "## 1ST model: NAIVE BAYES"
   ]
  },
  {
   "cell_type": "code",
   "execution_count": 19,
   "metadata": {},
   "outputs": [
    {
     "name": "stdout",
     "output_type": "stream",
     "text": [
      "------------------------------\n",
      "feature: linguistic_stats, classifier: Naíve Bayes\n",
      "Training time: 3.398s\n",
      "Accuracy_split: 0.786\n",
      "Accuracy_cross_validation: 0.790 (+/- 0.004)\n",
      "------------------------------\n",
      "feature: readability_stats, classifier: Naíve Bayes\n",
      "Training time: 2.809s\n",
      "Accuracy_split: 0.546\n",
      "Accuracy_cross_validation: 0.544 (+/- 0.006)\n",
      "------------------------------\n",
      "feature: POS_tags_stats, classifier: Naíve Bayes\n",
      "Training time: 2.811s\n",
      "Accuracy_split: 0.588\n",
      "Accuracy_cross_validation: 0.588 (+/- 0.004)\n"
     ]
    }
   ],
   "source": [
    "for feature, name in features:\n",
    "    print(\"-\"*30)\n",
    "    print(\"feature: {}, classifier: Naíve Bayes\".format(name))\n",
    "    if name == 'readability_stats':\n",
    "        feature = get_scaled_feature(feature)\n",
    "    X_train, X_test, y_train, y_test = train_test_split(feature, label, test_size=0.2, random_state=0)\n",
    "\n",
    "    clf = MultinomialNB()\n",
    "    clf.fit(X_train, y_train)\n",
    "\n",
    "    t0 = time.time()\n",
    "    # using cross validation\n",
    "    scores = cross_val_score(clf, X_train, y_train, cv=5)\n",
    "    t1 = time.time() - t0\n",
    "    print(\"Training time: %0.3fs\" % t1)\n",
    "\n",
    "    score0 = clf.score(X_test, y_test)\n",
    "    score = scores.mean()\n",
    "    print(\"Accuracy_split: %0.3f\" % score0)\n",
    "    print(\"Accuracy_cross_validation: %0.3f (+/- %0.3f)\" % (score, scores.std()*2))\n",
    "    path = \"model/\" + name + '_NB.pk'\n",
    "    pk.dump(clf, open(path,'wb'))"
   ]
  },
  {
   "cell_type": "markdown",
   "metadata": {},
   "source": [
    "## 2ND model: Logistic Regression"
   ]
  },
  {
   "cell_type": "code",
   "execution_count": 17,
   "metadata": {},
   "outputs": [
    {
     "name": "stdout",
     "output_type": "stream",
     "text": [
      "------------------------------\n",
      "feature: linguistic_stats, classifier: Logistic Regression\n",
      "Training time: 5.291s\n",
      "Accuracy_split: 0.798\n",
      "Accuracy_cross_validation: 0.802 (+/- 0.004)\n",
      "------------------------------\n",
      "feature: readability_stats, classifier: Logistic Regression\n",
      "Training time: 2.469s\n",
      "Accuracy_split: 0.582\n",
      "Accuracy_cross_validation: 0.584 (+/- 0.003)\n",
      "------------------------------\n",
      "feature: POS_tags_stats, classifier: Logistic Regression\n",
      "Training time: 2.467s\n",
      "Accuracy_split: 0.622\n",
      "Accuracy_cross_validation: 0.620 (+/- 0.004)\n"
     ]
    }
   ],
   "source": [
    "for feature, name in features:\n",
    "    print(\"-\"*30)\n",
    "    print(\"feature: {}, classifier: Logistic Regression\".format(name))\n",
    "    feature = get_standard_scaled_feature(feature)\n",
    "    X_train, X_test, y_train, y_test = train_test_split(feature, label, test_size=0.2, random_state=0)\n",
    "\n",
    "    clf = LogisticRegression()\n",
    "    clf.fit(X_train, y_train)\n",
    "\n",
    "    t0 = time.time()\n",
    "    # using cross validation\n",
    "    scores = cross_val_score(clf, X_train, y_train, cv=5)\n",
    "    t1 = time.time() - t0\n",
    "    print(\"Training time: %0.3fs\" % t1)\n",
    "\n",
    "    score0 = clf.score(X_test, y_test)\n",
    "    score = scores.mean()\n",
    "    print(\"Accuracy_split: %0.3f\" % score0)\n",
    "    print(\"Accuracy_cross_validation: %0.3f (+/- %0.3f)\" % (score, scores.std()*2))\n",
    "    path = \"model/\" + name + '_LR.pk'\n",
    "    pk.dump(clf, open(path,'wb'))"
   ]
  },
  {
   "cell_type": "markdown",
   "metadata": {},
   "source": [
    "## 3RD model: Decision Tree"
   ]
  },
  {
   "cell_type": "code",
   "execution_count": 24,
   "metadata": {},
   "outputs": [
    {
     "name": "stdout",
     "output_type": "stream",
     "text": [
      "------------------------------\n",
      "feature: linguistic_stats, classifier: Decision Tree\n",
      "Training time: 3.095s\n",
      "Accuracy_split: 0.795\n",
      "Accuracy_cross_validation: 0.797 (+/- 0.004)\n",
      "------------------------------\n",
      "feature: readability_stats, classifier: Decision Tree\n",
      "Training time: 8.123s\n",
      "Accuracy_split: 0.561\n",
      "Accuracy_cross_validation: 0.561 (+/- 0.005)\n",
      "------------------------------\n",
      "feature: POS_tags_stats, classifier: Decision Tree\n",
      "Training time: 7.614s\n",
      "Accuracy_split: 0.592\n",
      "Accuracy_cross_validation: 0.589 (+/- 0.004)\n"
     ]
    }
   ],
   "source": [
    "for feature, name in features:\n",
    "    print(\"-\"*30)\n",
    "    print(\"feature: {}, classifier: Decision Tree\".format(name))\n",
    "    feature = get_standard_scaled_feature(feature)\n",
    "    X_train, X_test, y_train, y_test = train_test_split(feature, label, test_size=0.2, random_state=0)\n",
    "    \n",
    "    clf = DecisionTreeClassifier()\n",
    "    clf.fit(X_train, y_train)\n",
    "\n",
    "    t0 = time.time()\n",
    "    # using cross validation\n",
    "    scores = cross_val_score(clf, X_train, y_train, cv=5)\n",
    "    t1 = time.time() - t0\n",
    "    print(\"Training time: %0.3fs\" % t1)\n",
    "\n",
    "    score0 = clf.score(X_test, y_test)\n",
    "    score = scores.mean()\n",
    "    print(\"Accuracy_split: %0.3f\" % score0)\n",
    "    print(\"Accuracy_cross_validation: %0.3f (+/- %0.3f)\" % (score, scores.std()*2))\n",
    "    path = \"model/\" + name + '_DT.pk'\n",
    "    pk.dump(clf, open(path,'wb'))"
   ]
  },
  {
   "cell_type": "markdown",
   "metadata": {},
   "source": [
    "### Plotting of the ROC-curve for the linguistic_stats features and the three models"
   ]
  },
  {
   "cell_type": "code",
   "execution_count": 12,
   "metadata": {},
   "outputs": [
    {
     "data": {
      "image/png": "[encoded data removed]",
      "text/plain": [
       "<Figure size 432x288 with 1 Axes>"
      ]
     },
     "metadata": {
      "needs_background": "light"
     },
     "output_type": "display_data"
    }
   ],
   "source": [
    "import matplotlib.pyplot as plt\n",
    "\n",
    "X_train, X_test, y_train, y_test = train_test_split(ling_features, label, test_size=0.2, random_state=0)\n",
    "NB_model = pk.load(open('model/linguistic_stats_NB.pk','rb'))\n",
    "LR_model = pk.load(open('model/linguistic_stats_LR.pk','rb'))\n",
    "DT_model = pk.load(open('model/linguistic_stats_DT.pk','rb'))\n",
    "\n",
    "fig, axes = plt.subplots()\n",
    "metrics.plot_roc_curve(NB_model, X_test, y_test, ax= axes) \n",
    "metrics.plot_roc_curve(LR_model, X_test, y_test, ax = axes) \n",
    "metrics.plot_roc_curve(DT_model, X_test, y_test, ax = axes) \n",
    "\n",
    "plt.title('ROC curve for the three formality-classifiers trained on the linguistic features')\n",
    "plt.show()"
   ]
  },
  {
   "cell_type": "code",
   "execution_count": null,
   "metadata": {},
   "outputs": [],
   "source": []
  }
 ],
 "metadata": {
  "kernelspec": {
   "display_name": "Python 3",
   "language": "python",
   "name": "python3"
  },
  "language_info": {
   "codemirror_mode": {
    "name": "ipython",
    "version": 3
   },
   "file_extension": ".py",
   "mimetype": "text/x-python",
   "name": "python",
   "nbconvert_exporter": "python",
   "pygments_lexer": "ipython3",
   "version": "3.8.5"
  }
 },
 "nbformat": 4,
 "nbformat_minor": 4
}
