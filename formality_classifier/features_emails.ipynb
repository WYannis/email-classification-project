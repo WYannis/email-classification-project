{
 "cells": [
  {
   "cell_type": "markdown",
   "metadata": {},
   "source": [
    "# This notebook computes all the features assortments on the GYAC corpus"
   ]
  },
  {
   "cell_type": "code",
   "execution_count": 9,
   "metadata": {},
   "outputs": [
    {
     "name": "stderr",
     "output_type": "stream",
     "text": [
      "D:\\ProgramFiles\\Anaconda\\lib\\site-packages\\gensim\\similarities\\__init__.py:15: UserWarning: The gensim.similarities.levenshtein submodule is disabled, because the optional Levenshtein package <https://pypi.org/project/python-Levenshtein/> is unavailable. Install Levenhstein (e.g. `pip install python-Levenshtein`) to suppress this warning.\n",
      "  warnings.warn(msg)\n"
     ]
    }
   ],
   "source": [
    "##IMPORTATIONS\n",
    "\n",
    "import numpy as np\n",
    "import nltk\n",
    "import joblib as jbl\n",
    "import os\n",
    "import pickle as pk\n",
    "import readability\n",
    "import time\n",
    "\n",
    "import gensim.downloader as api\n",
    "from gensim.models.word2vec import Word2Vec\n",
    "import gensim\n",
    "\n",
    "from sklearn.feature_extraction import FeatureHasher\n",
    "from sklearn.feature_extraction.text import CountVectorizer\n",
    "\n",
    "import spacy, collections, readability\n",
    "\n",
    "from textblob import TextBlob\n",
    "from bs4 import BeautifulSoup\n",
    "from nltk.tokenize import word_tokenize\n",
    "from nltk import ne_chunk, pos_tag, ngrams, tokenize\n",
    "from pickle import dump, load\n",
    "from nltk.parse import CoreNLPParser\n",
    "from warnings import simplefilter\n",
    "# ignore all future warnings\n",
    "simplefilter(action='ignore', category=FutureWarning)"
   ]
  },
  {
   "cell_type": "markdown",
   "metadata": {},
   "source": [
    "## Pre-processing of the e-mails: convert into a list of sentence list"
   ]
  },
  {
   "cell_type": "code",
   "execution_count": 2,
   "metadata": {},
   "outputs": [],
   "source": [
    "def extract_text_content(html_file):\n",
    "    file = open(html_file, 'r', encoding = 'utf-8')\n",
    "    soup = BeautifulSoup(file)        \n",
    "    for script in soup([\"script\", \"style\"]):\n",
    "        script.decompose()\n",
    "    strips = list(soup.stripped_strings)\n",
    "    return strips \n",
    "\n",
    "\n",
    "def process_emails(html_dir): ##input is the path to the html directory containing all of the html files\n",
    "    global_list = []\n",
    "    html_files_path = [x for x in os.listdir(html_dir) if 'html' in x]\n",
    "    for html_file in html_files_path:\n",
    "        sent_list = extract_text_content(html_dir + \"/\"+html_file)\n",
    "        sent_list = ' '.join(sent_list)\n",
    "        sent_list = nltk.tokenize.sent_tokenize(sent_list)\n",
    "        global_list.append(sent_list)\n",
    "    return global_list\n"
   ]
  },
  {
   "cell_type": "code",
   "execution_count": 3,
   "metadata": {},
   "outputs": [],
   "source": [
    "html_directory = \"emails\"\n",
    "emails_sentlist = process_emails(html_directory)"
   ]
  },
  {
   "cell_type": "code",
   "execution_count": 4,
   "metadata": {},
   "outputs": [
    {
     "name": "stdout",
     "output_type": "stream",
     "text": [
      "[['April Offer - Especially for You from The Inn 😍 April Offer from The Inn - Dinner Bed & Breakfast View in browser ACCOMMODATION DINING EVENTS Dear Sandra The Inn on Loch Lomond £89 Dinner Bed & Breakfast Offer Stay in April for £89 - per room per night inclusive of dinner bed & breakfast - Loch Lomond or Glen Douglas Rooms .', 'Upgrade your room from £30 or stay on the weekend for a supplement of £30 for a Friday and £50 for a Saturday.', 'As we look forward to some better weather, treat yourself to a little break at The Inn!', 'Take a wander along the loch side or for the more adventurous perhaps one of the local hill walks where you can enjoy the wonderful spring scenery.', 'Later you can relax in the bar for some pre dinner drinks before heading into the Restaurant to sample some fabulous dinner dishes .', \"You could always add on a visit to the leisure facilities at our sister property The Lodge on Loch Lomond and don't forget the Folk Sessions every weekend - a great line up of entertainment.\", '*Kids under 10 stay free with complimentary breakfast - upgrade to our Ben Lomond rooms is required.', 'Bring the dog for £25!', \"BOOK NOW VIEW EVENT CALENDAR April 2020 Fri 3rd Jenny Biddle Sat 4th Robert Carmichael Fri 10th Paul Murdoch Sat 11th Joe Quinn Fri 17th Jenny Biddle Sat 18th On The Wagon Fri 24th On The Wagon Sat 25th Robert Carmichael 4 x 4 Adventures Scotland Discover Loch Lomond's world famous landscape from the hilltops and experience the thrill of off-road driving, or sit back and enjoy guided adventure... FURTHER INFO & BOOK BOOK ONLINE DIRECT LOWEST RATES & EXCLUSIVE DEALS RESERVATION SUPPORT +44 (0)1436 860678 RES@INNONLOCHLOMOND.CO.UK Hope to see you soon at The Inn on Loch Lomond.\", 'Be sure to follow us on twitter or Like our page on Facebook to join our growing Inn on Loch Lomond community of friends for news and special offer updates.', 'The Inn on Loch Lomond, Loch Lomond, Inverbeg, Argyll & Bute G83 8PD Pikrevni Investments Ltd - Registered In Scotland No.SC042307 trading as The Inn on Loch Lomond Phone: +44 (0)1436 860 678 Emal: res@innonlochlomond.co.uk Data privacy has never been more important, and in light of the new General Data Protection Regulation (GDPR), coming into effect across the EU, the Lodge on Loch Lomond has updated its Privacy Policy and Cookies Policy.', 'This new law is built around the principles of transparency and control, something we at the Lodge on Loch Lomond has always taken pride in offering.', 'Your privacy is always our top priority, and, while we’ve updated our Privacy policies to comply with the new regulation, we haven’t changed the way we use, share or keep your information safe and secure.', 'To find out more, please take a look at our updated Privacy and Cookies Policy.', \"If you do not want to receive our newsletter anymore, please click the 'Unsubscribe' link below.\", 'If you wish to continue to receive these offers and updates without interruption, please ensure you add our email address to your email safe sender list.', 'TERMS AND CONDITIONS | PRIVACY POLICY | COOKIE POLICY | UNSUBSCRIBE'], ['BLACK FRIDAY - 40% OFF & PAY WHEN YOU STAY Black Friday - Save 40% BOOK NOW With 40% off, enjoy a winter break and look forward to great Scottish escapes in 2021.', 'For your peace of mind, all our bookings have a free and flexible policy with payment only required on arrival.', 'Welcome to the warmth of our hospitality.', 'With 40% off, enjoy a winter break and look forward to great Scottish escapes in 2021.', 'For your peace of mind, all our bookings have a free and flexible policy with payment only required on arrival.', 'Welcome to the warmth of our hospitality.', 'Loch Fyne Hotel & Spa Inveraray Our surroundings influence everything from the calming interiors in our bedrooms, to the finest local produce.', 'A hint of peat leads into the beating heart of our hotel: AA-Rosette awarded Cladach Mòr Bistro and Loch View Bar.', 'BOOK NOW Golf View Nairn A seafront setting in Nairn that embraces stunning coastal scenery from our Hickory restaurant.', 'Beach strolls and relaxing spa treatments all add to our welcoming nature.', 'The Moray Firth provides a stimulating backdrop.', 'BOOK NOW Thainstone House Inverurie 44 acres of grounds add freedom that is so important to us all at our former family mansion.', \"Regional flavours influence the menu in AA-Rosette awarded The Green Lady restaurant whilst Scottish whisky and gins accompany a bar menu of burgers and Josper-grilled steaks in Stockman's bar.\", 'BOOK NOW Oban Bay Hotel Oban A destination as much as a base for exploring Scotland’s west coast.', \"Seafood and prime cuts regularly appear on award-winning Grill Room's menu.\", 'Our Thermal Experience with outdoor hot tub and sauna, alongside ishga spa treatments, provide natural sources of relaxation.', 'BOOK NOW The Glencoe Inn Glencoe Sheltered among picturesque Scottish lochs and Munros, the inn is a welcome resting place near the West Highland Way.', 'Gather around wood-burning stoves and open fires, passing an hour or two over great food then spending the night in the still of the Highlands.', 'BOOK NOW Deeside Inn Ballater - Royal Deeside A welcoming space for time together and a handy base for actively enjoying all the Cairngorms have to offer.', 'Casual bar suppers follow hearty Crerar breakfasts.', 'Fireside Victorian style afternoon teas, Sunday lunches and the best Scottish beef enrich our menus.', \"BOOK NOW Isle of Mull Hotel & Spa Craignure Our exciting and extensive renovation is now starting to transform the hotel with redeveloped luxury bedrooms and new sea-view suites to complement the venue's extensive spa offering & swimming pool.\", 'A new sea deck for drinks and dining alongside our new restaurants and bars, offer stunning views of Craignure bay.', 'BOOK NOW GREAT SCOTTISH LOCATIONS Loch Fyne \\xa0-\\xa0 Nairn \\xa0-\\xa0 Inverurie \\xa0-\\xa0 Oban \\xa0-\\xa0 Isle of Mull Royal Deeside \\xa0-\\xa0 Glencoe CRERARHOTELS.COM reservations@crerarhotels.com T&Cs: Prices stated are per person, per break, based on two adults sharing a standard/classic double or twin bedroom.', 'Single supplement may apply.', 'Variable rates require cancellation by 2pm one day prior to arrival to avoid a penalty of 1 night stay including VAT.', 'No show charge is 1 night stay including VAT.', 'Subject to availability.', 'Copyright © 2020 Crerar Hotels Our mailing address is: Crerar Hotels · 1 Queen Charlotte Lane · Edinburgh, UK EH6 6BL · United Kingdom You are receiving this email because you subscribed to our newsletter.', 'Unsubscribe View in browser'], ['Easter Getaways Plumlocations Easter Breaks View in browser Hi Steve, After the pressure of another lockdown and for many home-schooling what better way to start looking forward to some hope by booking a Spring Getaway from 17th May.', 'With our flexible cancellation policy, now is the perfect time to plan your first holiday of the year.', 'Please note in line with current government restrictions we are only allowed to open to single households until the 17th May and two households until 21st June.', 'With a wide range of one and two bedroom apartments available there is something to suit everyone’s needs.', 'FIND OUT MORE Step into Spring Offer We are delighted to be able to offer an amazing special offer for direct bookers on this site only until March 31st 2021.', 'Step into Spring Offer – 10% off bookings in selected\\xa0apartments based on a minimum four\\xa0night stay.', 'Ask for details!', 'FIND OUT MORE We have never been so busy with bookings since the PMs announcement last week - please book soon to avoid possible disappointment.', 'Step into Spring Offer We are delighted to be able to offer an amazing special offer for direct bookers on this site only until March 31st 2021.', 'Step into Spring Offer – 10% off bookings in selected apartments based on a minimum four night stay.', 'Ask for details!', 'FIND OUT MORE We have never been so busy with bookings since the PMs announcement last week - please book soon to avoid possible disappointment.', 'Kids Attractions With the natural beauty of South Devon and the abondance of different attractions there is something to suit everyone.', 'Why not enjoy a long sandy beach walk, or explore the rugged terrain of Dartmoor or take in the historic sights of Britain’s coastal city Plymouth.', 'There is plenty to do for families as well including the National Marine Aquarium, Buckfast Abbey, Pennywell Farm, Paignton Zoo, Babbacombe Model Village, Woodlands, Dartmouth Steam Railway and an array of National Trust properties.', 'You won’t have time to get bored!', 'Kids Attractions With the natural beauty of South Devon and the abondance of different attractions there is something to suit everyone.', 'Why not enjoy a long sandy beach walk, or explore the rugged terrain of Dartmoor or take in the historic sights of Britain’s coastal city Plymouth.', 'There is plenty to do for families as well including the National Marine Aquarium, Buckfast Abbey, Pennywell Farm, Paignton Zoo, Babbacombe Model Village, Woodlands, Dartmouth Steam Railway and an array of National Trust properties.', 'You won’t have time to get bored!', 'OUR COVID SECURE STEPS We have achieved the certified national Covid-19 Secure hygiene standards for the safety of our guests and staff.', 'SEE MORE We have achieved the certified national Covid-19 Secure hygiene standards.', 'SEE MORE WHY BOOK DIRECT WITH PLUMLOCATIONS Lowest Prices Guaranteed Exclusive Offers Exclusive Benefits Deal Direct with owners Lowest Prices Guaranteed Exclusive Offers Exclusive Benefits Deal Direct with owners CONTACT | TERMS AND CONDITIONS | PRIVACY POLICY | UNSUBSCRIBE www.plumlocations.net 0 333 666 9996 Plumlocations is the trading name incorporating Plumlocations Ltd and other properties owned by S J and C L Mittler.', 'NOTICE: This email is intended for the named recipient only.', 'It may contain privileged and confidential information.', 'If you are not the intended recipient, notify the sender immediately and destroy this email.', 'You must not copy, distribute or take action in reliance upon it.', 'Whilst all efforts are made to safeguard emails including using only Macs, Plumlocations cannot guarantee that attachments are virus free or compatible with your systems and does not accept liability in respect of viruses or computer problems experienced.', 'Terms & Conditions* All offers are based on new bookings only and subject to availability.', 'Please see our website for our Covid cancellation policy.'], ['Festive Celebrations and Year Round Breaks Festive celebrations and year round breaks View in browser Festive celebrations and year round breaks at Thainstone House are the perfect way to spend time together with family and friends.', 'Escape to our country house retreat and make this season one to remember for all the right reasons: Twinkling trees, log fires, and familiar flavours of the season.', 'Acres of space for crisp winter walks, an outdoor hot tub and fire pits for warming mugs of mulled wine and laughter.', 'Come together for a country house Christmas to be near those you love.', 'Festive celebrations and year round breaks at Thainstone House are the perfect way to spend time together with family and friends.', 'Escape to our country house retreat and make this season one to remember for all the right reasons: Twinkling trees, log fires, and familiar flavours of the season.', 'Acres of space for crisp winter walks, an outdoor hot tub and fire pits for warming mugs of mulled wine and laughter.', 'Come together for a country house Christmas to be near those you love.', 'Look forward to a great Scottish escape in 2021 and book our Black Friday offer with 40% off.', 'For your peace of mind, all our bookings have a free and flexible policy with payment only required on arrival.', 'Offer ends Monday 30th November.', 'BOOK NOW Enjoy a spa break that includes one 25 minute spa treatment, dinner, breakfast and use of our leisure club including swimming pool, outdoor hot tub and sauna.', 'Sample the best of local produce in The Green Lady restaurant.', '1 night from £79 .50 per person BOOK NOW Christmas and New Year breaks are the perfect way to spend time with your loved ones this festive season.', 'A magnificent mansion house year round, the Christmas period really brings out the magic at Thainstone House.', 'Christmas Break Arrive on Christmas Eve, sit back, soak up the warmth of the festive atmosphere and experience our 3 night Christmas break.', 'Let the festivities commence!', '3 nights from £360 BOOK NOW Hogmanay Break Arrive on December 31st for a 2 night celebration in style as we bring in the New Year with our Hogmanay Break at Thainstone House which includes our five course Gala Dinner to welcome in the new year.', '2 nights from £250 BOOK NOW Hogmanay Escape Welcome in the new year with an escape from the usual hustle and bustle.', \"A warm welcome awaits, for a more intimate New Year's Eve, your way.\", '1 night from £62 BOOK NOW Time together is an important gift this season, so share the experience with the gift of Crerar for Christmas, a birthday, anniversary, or special occasion.', 'Afternoon Tea \\xa0– \\xa0Monetary \\xa0– Dining \\xa0– \\xa0Spa \\xa0– \\xa0Room Upgrades BUY GIFTS We are proud to be the first Scottish hotel company to be granted “Good To Go” status by VisitScotland, and we are AA COVID-19 Confident approved.', 'We are proud to be the first Scottish hotel company to be granted “Good To Go” status by VisitScotland, and we are AA COVID-19 Confident approved.', 'CRERARHOTELS.COM reservations@crerarhotels.com GREAT SCOTTISH LOCATIONS Loch Fyne \\xa0-\\xa0 Nairn \\xa0-\\xa0 Inverurie \\xa0-\\xa0 Oban Royal Deeside \\xa0-\\xa0 Glencoe Isle of Mull - opening Spring 2021 T&Cs: Prices are per person,\\xa0per break, based on two adults sharing a standard/classic double or twin bedroom.', 'Single supplements apply.', 'A credit card is required for guarantee only.', 'Cancel by 2pm one day prior to arrival to avoid a penalty of 1 night stay including VAT.', 'No show charge is 1 night stay including VAT.', 'All breaks are subject to availability.', 'Dinner allowance £30 per guest applies on dinner inclusive breaks.', 'Full Crerar Hotels Terms & Conditions apply.', 'Copyright © 2020 Crerar Hotels Our mailing address is: Crerar Hotels · 1 Queen Charlotte Lane · Edinburgh, UK EH6 6BL · United Kingdom You are receiving this email because you subscribed to our newsletter.', 'Unsubscribe'], ['Important Information About Your Stay...', 'Your stay at the Lodge on Loch Lomond.', 'View in browser ACCOMMODATION DINING ACTIVITES We look forward to welcoming you for your stay on 10th July!', 'Dear Guest, Due to a change with an existing Wedding booking - the McMillan Suite which is located within our Munro Lodge will now have a Wedding taking place on Saturday 10th July 2021.', 'As a courtesy we just wanted to bring this to your attention in advance however\\xa0it should not impact at all on your stay with the event finishing at 11pm.', \"Ordinarily we wouldn't advise on events taking place within the hotel however we do typically request all bedrooms that are located within our Munro building (where your accommodation is allocated/located) be booked/allocated with the Wedding however given the particular late changes that have occurred and the lack of availability we are unable to re-allocate or move things around.\", 'The late changes are necessary to provide the larger function suite to facilitate covid restrictions better.', \"Should you have any concerns about your booking or if you would like to reschedule to another date then we will happily work with you on whatever you feel suits best,\\xa0 as already mentioned there really shouldn't be any impact and it is just a general courtesy email to allow you to make a choice on things.\", 'We know from recent guest feedback that guests would prefer to be advised in advance of these situations!', 'You can reach out to the team at any point via res@loch-lomond.co.uk Otherwise we look forward to seeing you on the 10th as planned!', \"Colquhoun's Restaurant Sit back and take in our fabulous waterfront restaurant and it’s panoramic views of the Loch and Ben Lomond while the wonderful relaxed buzz of family and friends enjoying a meal creates a lively, warm ambience around one of the Loch’s best Loch Lomond restaurants.\", \"Colquhoun's Bar & Lounge Before your meal, join us in the Bar for our renowned cocktails, or try our selection of whisky, cognacs, liqueurs, beers and wines from around Scotland and the world while enjoying the views of Loch Lomond and Ben Lomond from indoors or from our relaxing lounge.\", 'Lodge on Loch Lomond, Loch Lomond, Luss, Argyll & Bute G83 8PA Pikrevni Investments Ltd - Registered In Scotland No.SC042307 trading as Lodge on Loch Lomond Phone: +44 (0)1436 860201 Emal: res@loch-lomond.co.uk Data privacy has never been more important, and in light of the new General Data Protection Regulation (GDPR), coming into effect across the EU, the Lodge on Loch Lomond has updated its Privacy Policy and Cookies Policy .', 'This new law is built around the principles of transparency and control, something we at the Lodge on Loch Lomond has always taken pride in offering.', 'Your privacy is always our top priority, and, while we’ve updated our Privacy policies to comply with the new regulation, we haven’t changed the way we use, share or keep your information safe and secure.', 'To find out more, please take a look at our updated Privacy and Cookies Policy .', \"If you do not want to receive our newsletter anymore, please click the 'Unsubscribe' link below.\", 'If you wish to continue to receive these offers and updates without interruption, please ensure you add our email address to your email safe sender list.', 'Lodge on Loch Lomond, Loch Lomond, Luss, Argyll & Bute G83 8PA TERMS AND CONDITIONS | PRIVACY POLICY | COOKIE POLIC Y\\xa0 \\xa0 | UNSUBSCRIBE'], ['Mini book festival on 17 July 2021 - RSVP RSVP to our mini book festival by 28\\xa0June 2021.', 'If you are unable to view this email, please click here.', 'Mini book festival - Saturday\\xa017 July 2021 We really hope you can make it to our mini-book festival on Saturday 17 July at Crieff Hydro Resort.', 'An opportunity to celebrate all of the excellent entries and shortlisted winners.', \"The itinerary for the day is currently shaping up as follows: 12:30pm - Meet the judges and enjoy a presentation to the winners 1:30pm - Artie's Singing Kettle performance Across the day we'll have other entertainment and face painting for you to enjoy.\", \"Either before or after the event you're welcome to enjoy the resort facilities and if, you fancy booking an activity or visiting Glen's Adventure Park, you can book tickets online here .\", 'If you could complete the RSVP form, by hitting the link below, then it helps us to manage numbers.', \"You're more than welcome to bring friends and other family members along too.\", 'RSVP BY 28 JUNE Part of the Crieff Hydro Family of Hotels.', 'Strathearn House, Ferntower Road, Crieff, Perthshire, PH7 3LQ.', 'Registered in Scotland SC000268.', '©2018.', 'If you would rather not receive any further newsletters, you can unsubscribe here.', 'We will be sorry to see you go.'], [\"Oh Glencoe, we've missed you.\", \"Find out what's new A\\xa0million pound refurbishment and two new restaurants.\", 'Time to visit Glencoe?', 'If you are unable to view this email, please click here.', 'Welcome to the West Highlands.', 'Oh Glencoe.', \"You're a magnificent feast for the eyes.\", \"Trundle along beautiful beaches to explore hidden lochs or set the alarm clock early to watch the sunrise and capture a selfie that's the envy of all your followers.\", 'Where to stay?', 'Isles of Glencoe laps the shores of Loch Leven and the views stretch for miles.', \"There's something for families of all shapes and sizes.\", 'Make a splash in our pool before sitting down to enjoy a meal in our new Waters Edge restaurant.', 'From locally sourced fish to firm family favourites, the menu has been created with you in mind.', 'Or how about enjoying our £1.5Million refurbishment whilst gazing across Loch Linnhe?', 'A stay at the charming Ballachulish Hotel is calling .', \"We've revamped every bedroom and the d é cor is inspired by the wild and wonderful surroundings.\", 'Couples love it here for romance and the space to escape.', \"And, of course, there's our new menu in the Waterside Caf é to try and our infectious smile and genuinely\\xa0warm welcome to greet you.\", 'Is it tim e to plan some away time with the other half?', 'Check-out our latest offers below.', \"What's new in the West Highlands Something to entice you to escape... Part of the Crieff Hydro Family of Hotels.\", 'Strathearn House, Ferntower Road, Crieff, Perthshire, PH7 3LQ.', 'Registered in Scotland SC000268.', '©2018.', 'If you would rather not receive any further newsletters, you can unsubscribe here.', 'We will be sorry to see you go.'], [\"Pet Friendly Holidays 🐶 Pet Friendly Holidays View in browser Hi Steve, At Plumlocations we understand that your furry friend is as much a part of the family as you are, that's why we are delighted to be a pet friendly holiday company.\", 'We have a wide variety of apartments in Devon that happily welcome you all!', 'FIND OUT MORE Pet Apartments With four properties located in South Devon there is an apartment for you and your beloved hound!', 'We happily welcome your pets in the following apartments: Trinity Mews, Torquay 10, 10a, 12, 13, 15, 30, 34 Astor House, Torquay 5, 6, 11, 12, 14, 15 Drakes Wharf, Plymouth 10 Clarence Elliot Terrace, Plymouth 1a, 3, & Mayflower Duplex Pet Apartments With four properties located in South Devon there is an apartment for you and your beloved hound!', 'We happily welcome your pets in the following apartments: Trinity Mews, Torquay 10, 10a, 12, 13, 15, 30, 34 Astor House, Torquay 5, 6, 11, 12, 14, 15 Drakes Wharf, Plymouth 10 Clarence Elliot Terrace, Plymouth 1a, 3 & Mayflower Duplex Places of Interest There are many places you can visit with your dog.', 'The most obvious one are the local beaches.', 'With miles and miles of sandy beaches, they will have hours of fun!', 'The majority of beaches now\\xa0 allow dogs all year round.', 'Being in close proximity to Dartmoor you also have the vast open Moors to explore, as well as many local walks.', 'Please feel free to ask us!', 'TORQUAY PLYMOUTH Places of Interest There are many places you can visit with your dog.', 'The most obvious one are the local beaches.', 'With miles and miles of sandy beaches, they will have hours of fun!', 'The majority of beaches now\\xa0 allow dogs all year round.', 'Being in close proximity to Dartmoor you also have the vast open Moors to explore, as well as many local walks.', 'Please feel free to ask us!', 'TORQUAY PLYMOUTH OUR COVID SECURE STEPS We have achieved the certified national Covid-19 Secure hygiene standards for the safety of our guests and staff.', 'Free cancellation or transfers available if Covid restrictions prevent your stay.', 'SEE MORE We have achieved the certified national Covid-19 Secure hygiene standards.', 'SEE MORE WHY BOOK DIRECT WITH PLUMLOCATIONS Lowest Prices Guaranteed Exclusive Offers Exclusive Benefits Deal Direct with owners Lowest Prices Guaranteed Exclusive Offers Exclusive Benefits Deal Direct with owners CONTACT | TERMS AND CONDITIONS | PRIVACY POLICY | UNSUBSCRIBE www.plumlocations.net 0 333 666 9996 Plumlocations is the trading name incorporating Plumlocations Ltd and other properties owned by S J and C L Mittler.', 'NOTICE: This email is intended for the named recipient only.', 'It may contain privileged and confidential information.', 'If you are not the intended recipient, notify the sender immediately and destroy this email.', 'You must not copy, distribute or take action in reliance upon it.', 'Whilst all efforts are made to safeguard emails including using only Macs, Plumlocations cannot guarantee that attachments are virus free or compatible with your systems and does not accept liability in respect of viruses or computer problems experienced.', 'Terms & Conditions* All offers are based on new bookings only and subject to availability.', 'All bookings require a £25 deposit per apartment.', 'Free cancellation or transfer if Covid restrictions prevent your stay.'], ['Refer a friend and get a £20 voucher!', \"We can't wait to see you again soon.\", 'If you are unable to view this email, please click here.', 'LAST CHANCE TO TELL US HOW WE DID!', \"If you've already given your feedback, thanks a lot.\", 'We really appreciate it.', \"If you haven't please try and spare a few minutes to tell us what was great and what we could do better.\", 'What you want from your stay will evolve all the time and this is your opportunity to help shape your next stay at Crieff Hydro.', \"FUN IS MUCH BETTER IF YOU CAN SHARE IT WITH FRIENDS And if you recommend your friends then they get a 10% discount and a £10 credit on their stay at Crieff Hydro and you'll get a £20 voucher if they book!\", \"That's £20 for every individual friend you recommend to us!\", \"Simply copy the link http://www.crieffhydrofamily.com/refer-a-friend \\u200b, send to your friend to complete and they'll automatically be emailed their unique booking code.\", 'Make sure they add your details too so that we know who to send the £20 voucher to.', \"WE CAN'T WAIT TO SEE YOU AGAIN SOON!\", \"It may be only a week since you left, but we're over the moon to see you're coming back again soon.\", \"It's never too early to start planning your next stay, so if you want to browse our delicious menu of spa treatments or plan a new activity, start researching today!\", 'Part of the Crieff Hydro Family of Hotels.', 'Strathearn House, Ferntower Road, Crieff, Perthshire, PH7 3LQ.', 'Registered in Scotland SC000268.', '©2018.', 'If you would rather not receive any further newsletters, you can unsubscribe here.', 'We will be sorry to see you go.'], ['Thanks for staying!', 'We hope you managed to create special new memories.', 'If you are unable to view this email, please click here.', \"WE CAN'T WAIT TO SEE YOU AGAIN!\", 'We just wanted to thank you for your company and trust you had a safe journey home.', 'It was a massive pleasure to have you stay and we hope you found new adventures, tried new experiences and took home a Facebook album full of new memories.', \"It goes without saying that we can't wait to see you again!\", 'TELL US HOW WE DID!', 'Did we do well for you?', \"We'd love to know.\", 'Simply find us on Google or on TripAdvisor and leave us your thoughts and scores\\u200b.', 'Meeting and exceeding your expectations when you stay with us is all we aim to achieve.', \"It means a lot to the whole team to read your feedback, even if we didn't quite get everything right.\", \"What we don't exceed at, we fix, to make sure when you return, we've improved!\", 'MISSING US ALREADY?', \"REBOOK DIRECT TODAY AND SAVE 20% And be quick as you've only got 30 days to use your unique, individual booking code and take advantage of 20% off two-night stays when you re-book now at crieffhydro.com .\", 'There are tons of benefits to booking directly with us, not least free childcare in BIG Country so that you big kids can have some escape time too.', 'What are you waiting for?', \"You don't really need an excuse to grab this exclusive rebookers offer.\", 'Use code REBOOKCHF7R2F today.', 'Part of the Crieff Hydro Family of Hotels.', 'Strathearn House, Ferntower Road, Crieff, Perthshire, PH7 3LQ.', 'Registered in Scotland SC000268.', '©2018.', 'If you would rather not receive any further newsletters, you can unsubscribe here.', 'We will be sorry to see you go.'], ['⛳ Your Winter Golfing Offers Are Here!', 'Book your Suffolk\\xa0golfing getaway, Christmas and more today!', 'View in browser The Thorpeness Winter Golf Break is BACK from November 1st 2020!', '⛳ ⛳ ⛳ Package prices start\\xa0at just £105 per person , get those golf swings ready for a one or two night getaway with us on the Suffolk coast!', 'Whatever your golfing standard, our course , k nown as one of the best in Suffolk , is sure to give you a challenge!', \"Our Winter Break package includes up to 3 rounds of golf, a 3 course a la carte dinner in the fantastic Ogilvie's Grill House, accommodation and our cooked to order breakfast in the morning.\", 'So, what are you waiting for?!', 'Book your Winter Break today!', 'Available November 1st 2020 - March 18th 2021 Find Out More Find Out More In need of an escape for the day, but no time to stay?', 'Our Thorpenessie Special is just what you need!', 'What better way to set yourself up for the challenge of our 18 holes than with one of our ever popular, monster Full English breakfasts?', 'The only question remains, will you conquer the course?', 'Full English plus 1 round of golf | £45 per person 25th October 2020 - 27th March 2021 Warm yourself up with a bacon roll and coffee before you head out onto the course with o ur Winter Afternoons special offer.', 'Tee times after 1.30pm throughout October 2020 and March 2021.', 'Tee times after 12 noon from November 2020 -\\xa0February 2021.', 'Just £28 per person!', \"Find Out More It's no secret that most of us are living a little more in the moment after the year we've faced.\", \"So if your Christmas plans are still a little up in the air, we're sure to have something to suit you and your loved ones.\", 'For all that Thorpeness Golf Club and Hotel has to offer this festive season , whether that be a Christmas or Twixmas getaway, or joining us for the big feast , full information can be found by clicking the button below.. Festivities at Thorpeness To make a reservation or for further details, please contact our friendly folk on 01728 452176 or email us at info@thorpeness.co.uk Unsubscribe Forward'], [\"🎁 BLACK FRIDAY AT THE SWAN Limited time only, don't miss out!\", 'View in browser S T A Y | D I N E | S P A | C H R I S T M A S Helping you to make gifting\\xa0as easy as 1,2,3!', 'Find our exclusive Black Friday vouchers below, treat yourself and your loved ones to a little luxury this year.', 'Christmas presents?', 'Not a problem.', 'December birthdays?', 'Consider them done and dusted.', \"'To me, from me'.... We've got just the answer!\", 'Explore the charm of Lavenham, experience fine dining and a getaway to remember for a lifetime with this fantastic offer.', 'Huge savings of £115!', 'View Vouchers View\\xa0Vouchers View\\xa0Vouchers Sharing anything with a loved one only makes it better.', 'Our Black Friday vouchers are no different, meaning the savings are even sweeter.', \"Relax in the serenity of Weavers' House Spa, or take care of that sweet tooth with our specialty High Tea, savings of up to £50 to be had!\", 'Available for purchase from Friday 27th November until Friday 11th December only!', 'Be sure to select vouchers with Black Friday in the title to make the most of these great savings.', 'Terms and Conditions can be found by clicking here .', 'For any further queries, please call our friendly reservations team on 01787 247477 or email us at reservations@theswanatlavenham.co.uk Unsubscribe'], ['🎁 JANUARY SALE EXCLUSIVE 🎁 Not to be missed, starting 2021 the right way!', 'View in browser JANUARY SALE Getting your 2021 off to a better start with our Sea and Spice exclusive!', \"Don't let your diary sit empty, spice it up with our one time January exclusive.\", 'Valid for 12 months from the date of purchase, so w hether you crave the sun on your face and the scent of salt air in the summer, or an\\xa0invigorating morning swim in late autumn, the choice is yours!', 'For only £75pp!', '* Find Voucher The path to going abroad may still be quite a blur for 2021, so why not book\\xa0a break in the UK to start the year in style?', 'Join us for an evening of fantastic food, as spicy as you dare, in the highly rated Indian restaurant, Sea Spice .', 'Accompanied by a bottle of house wine, complimentary of course!', \"There may well be a few 'I've eaten too much' groans whilst falling into your slumber, but not to worry, breakfast in the morning will soon have you forgetting about last night's overindulgence, you're on holiday after all!\", 'All for just £150!', 'Only available to purchase throughout January.', \"Find Voucher Look for the voucher titled 'The White Lion January Sale Sea and Spice'.\", '*Based on two sharing, total voucher cost £150.', 'Must be purchased as a voucher, terms and conditions can be found here.', 'To make a reservation or for further details, please contact our friendly reservations team on 01728 452720 or email us at reservations@whitelion.co.uk .', 'Unsubscribe Forward'], ['🎁 Make this December one to remember Allow us to look after you this festive season.. View in browser S T A Y | D I N E | S P A | C H R I S T M A S The Silent Night retreat you deserve... ⭐ Limited time offer!', '⭐ Available 23rd November - 23rd December The Swan at Lavenham makes the most idyllic get away spot in the run up to Christmas, with our cosy lounges, wooden beams and open fire places, what more could you want from a luxury pre-Christmas break?', \"The Silent Night package includes an evening 3 course feast in The Gallery Restaurant, with dishes from this years festive menu , the night's stay, our ever popular full Suffolk breakfast in the morning, and an early Christmas present from us, a little slice of luxury with a lovely Temple Spa candle.\", 'Book your break today!', \"Silent Night Stay Waving goodbye to 2020 in style 🥂 Current times mean that our usual New Year's Eve celebrations are amiss, here at The Swan at Lavenham, we're dedicated to ensuring your welcoming of 2021 is as joyous as it should be.\", 'Our spectacular 4 course black tie gala dinner is set to be a showstopper event, with a choice of delicate dishes, bursting with flavour.', \"Although we may not be able to countdown to midnight together, we've curated a special midnight feast, so that you can clink glasses in the comfort of your bedroom, when the clock strikes twelve.\", \"With plenty of other festive favourites to be enjoyed throughout your stay, join us for your 2 night getaway and make this year's send off a truly special one.\", \"New Year's Package Looking to get away this Christmas?\", 'Enjoy the luxury of The Swan hotel on our 3 night Christmas package .', 'Packed with traditional Christmas favourites, mulled wine, fine dining, cream tea, canapes, champagne, and more!', 'Get in touch today and make your 2020 Christmas one to truly remember 🍾 Our Christmas Package All tables are socially distanced in our restaurants and the lounge.', 'To make a reservation or for further details, please contact our friendly reservations team on 01787 247477 or email us at reservations@theswanatlavenham.co.uk Unsubscribe'], ['👌 CYBER MONDAY OFFERS - Limited Availability!', \"Cyber Monday Offers View in browser STAY DINING OFFERS Cyber Monday Offers Dear Sandra, Don't worry if you've not purchased as yet - you still have until the end of today to sort that Christmas List!!!\", '25% extra value Vouchers The Perfect Christmas Gift An E-Voucher with 25% extra value - turn your £100 into £125!!!!', 'The Perfect Treat for Family & Friends .... Shop Now Bed & Breakfast Offer from £99.00 Complimentary wine & nibbles when booking dinner with this offer - valid for stays from now until 31st March 2021.', 'Book Now Dinner B & B Offer from £139.00 Valid for stays from now until 31st March 2021.', 'Overnight stay inclusive of 3 course dinner & full Scottish breakfast for 2 guests sharing a double room.', 'Book Now Buy As Gift Afternoon Tea for 2 was £53 now £25 A delicious treat and the perfect Christmas gift !', 'Afternoon tea including a glass of sparkly.', 'Buy As Gift Afternoon Tea for 2 was £53 now £25 A delicious treat and the perfect Christmas gift !', 'Buy As Gift We are operating reduced opening days throughout December & January - check availability on our website to confirm.', 'We will be\\xa0closed 21st - 26th December 2020 inclusive.', 'Open 27th December 2020 - 3rd January 2021 for Festive/New Year Stays.', \"Revised Opening Hours Colquhoun's Restaurant Sit back and take in our fabulous waterfront restaurant and it’s panoramic views of the Loch and Ben Lomond while the wonderful relaxed buzz of family and friends enjoying a meal creates a lively, warm ambience around one of the Loch’s best Loch Lomond restaurants.\", \"Colquhoun's Bar & Terrace Before your meal, join us in the Bar for our renowned cocktails, or try our selection of whisky, cognacs, liqueurs, beers and wines from around Scotland and the world while enjoying the views of Loch Lomond and Ben Lomond from the comfort of our sofas.\", 'Lodge Leisure Facilities The Leisure facilities will remain closed as we are unable to facilitate appropriate COVID social distancing, we are working behind the scenes on some new and exciting plans and hope to be able to share soon!', 'We apologise for any inconvenience and thank you for your understanding during this current times.', 'Lodge on Loch Lomond, Loch Lomond, Luss, Argyll & Bute G83 8PA Pikrevni Investments Ltd - Registered In Scotland No.SC042307 trading as Lodge on Loch Lomond Phone: +44 (0)1436 860201 Emal: res@loch-lomond.co.uk Data privacy has never been more important, and in light of the new General Data Protection Regulation (GDPR), coming into effect across the EU, the Lodge on Loch Lomond has updated its Privacy Policy and Cookies Policy .', 'This new law is built around the principles of transparency and control, something we at the Lodge on Loch Lomond has always taken pride in offering.', 'Your privacy is always our top priority, and, while we’ve updated our Privacy policies to comply with the new regulation, we haven’t changed the way we use, share or keep your information safe and secure.', 'To find out more, please take a look at our updated Privacy and Cookies Policy .', \"If you do not want to receive our newsletter anymore, please click the 'Unsubscribe' link below.\", 'If you wish to continue to receive these offers and updates without interruption, please ensure you add our email address to your email safe sender list.', 'TERMS AND CONDITIONS | PRIVACY POLICY | COOKIE POLICY | UNSUBSCRIBE'], [\"💅 Spa & Beauty Treatment Offers at the Lodge Spa Treatments now available\\xa0January to March 2020 View in browser STAY DINING LEISURE Spa & Beauty Treatments Now Available Monday & Tuesday's January to March 2020 Dear Sandra, Special Introductory Offer £49pp Spa Treatments will now be available within our Fleming Suite on Monday/Tuesdays from 20th January until 31st March 2020 inclusive (with the exception of 4 th February) from 10.00am until 5.00pm.\", 'Spa Treatments are only bookable if staying over at the hotel or in conjunction with a dining experience booked with leisure at The Lodge or The Inn on Loch Lomond.', '(*\\xa0Subject to Therapist\\xa0availability)\\xa0 The Fleming Suite is located next door to our leisure facilities.', 'We require 7 days notice in regards to bookings.', '48hrs notice is required to cancel a treatment otherwise the full charge will apply.', 'Payment for your treatment must be made in cash to the therapist on the day.', 'Contact to Book Correen Scott, Heart & Soul Beauty 07732684544 heartandsoulbeauty@yahoo.co.uk £49pp Offer Inclusive of: 55 minute full body aromatherapy massage or 55 minute essential Eve Taylor facial (includes face & scalp massage) or 2 x 25 minute treatments (back/neck/shoulder or express facial or file/polish hands or file/polish feet) BOOK NOW Combine a treatment with some relaxing time in our leisure facilities.', 'Swimming pool - Sauna - Steam Room - Jacuzzi.', \"View info Events for 2020 Wedding Open Day – Sunday 16th February 2020 V alentines Night Dinner - Friday 14th February 2020 Mother's Day - Sunday 22nd March 2020 Contact events@loch-lomond.co.uk for further information.\", \"Colquhoun's Restaurant Sit back and take in our fabulous waterfront restaurant and it’s panoramic views of the Loch and Ben Lomond while the wonderful relaxed buzz of family and friends enjoying a meal creates a lively, warm ambience around one of the Loch’s best Loch Lomond restaurants.\", \"Colquhoun's Bar & Lounge Before your meal, join us in the Bar for our renowned cocktails, or try our selection of whisky, cognacs, liqueurs, beers and wines from around Scotland and the world while enjoying the views of Loch Lomond and Ben Lomond from the comfort of our sofas.\", 'Lodge Leisure Facilities The Lodge offers an ideal opportunity to relax, unwind and enjoy the amazing scenery that surrounds the hotel.', 'Laze by the pool and enjoy the majestic views and the sparkling blue waters of Scotland’s bonniest leisure hotels, or Enjoy outdoor activities around Loch Lomond.', 'Lodge on Loch Lomond, Loch Lomond, Luss, Argyll & Bute G83 8PA Pikrevni Investments Ltd - Registered In Scotland No.SC042307 trading as Lodge on Loch Lomond Phone: +44 (0)1436 860201 Emal: res@loch-lomond.co.uk Data privacy has never been more important, and in light of the new General Data Protection Regulation (GDPR), coming into effect across the EU, the Lodge on Loch Lomond has updated its Privacy Policy and Cookies Policy .', 'This new law is built around the principles of transparency and control, something we at the Lodge on Loch Lomond has always taken pride in offering.', 'Your privacy is always our top priority, and, while we’ve updated our Privacy policies to comply with the new regulation, we haven’t changed the way we use, share or keep your information safe and secure.', 'To find out more, please take a look at our updated Privacy and Cookies Policy .', \"If you do not want to receive our newsletter anymore, please click the 'Unsubscribe' link below.\", 'If you wish to continue to receive these offers and updates without interruption, please ensure you add our email address to your email safe sender list.', 'TERMS AND CONDITIONS | PRIVACY POLICY | COOKIE POLICY | UNSUBSCRIBE'], [\"💕 The Perfect Valentine Gift Helping you make the best of Valentine's Day for your loved one... View in browser Valentine's Day might be\\xa0another occasion\\xa0to be swept up by the restrictions of lockdown #3 with wining and dining limited to your front room on the day itself.\", 'However, finding the perfect gift does not have to be a struggle this year.', 'Show your significant other just how much you love\\xa0them with a romantic getaway in the quintessential village of Lavenham in 2021.', \"Certain\\xa0to 'wow' your special someone on February 14th, there's nothing better than giving your partner a special gift than one you can enjoy together!\", \"We understand the difficultly of the unknown, which is\\xa0why our 'Flexible Rates' come with a confidence guarantee that mean\\xa0you can still get something exciting in the calendar.\", \"Should you need to cancel for any reason, all we ask is for 48 hours notice, and you won't pay a penny.\", 'No deposit is required, making a hassle free experience from start to finish.', 'Book Now Our Ultimate Romance Package is also available to purchase as a voucher, offering the crème de la crème of romantic breaks.', 'Think Champagne, chocolate covered strawberries and the nights stay in our Constable Suite .', \"For just £350 per person , find out more today and make this Valentine's Day one to remember!\", 'Find Out More To make a reservation, or for further details, please contact our friendly reservations team on 01787 247477 or email us at reservations@theswanatlavenham.co.uk Unsubscribe'], ['🔥 Your Winter Spice special offer!', 'Limited time offer, get away this chilly season.. View in browser The White Lion and Sea Spice adding a little heat to your winter season!', 'Available 1st November - 31st January* Looking for some winter sun?', \"We've got something much better, warm up from the inside out with our brand new getaway\\xa0offer, introducing Winter Spice!\", \"We're inviting you to join us in celebrating our fantastic Indian restaurant, Sea Spice , with a night away in sunny Suffolk.\", 'Sea Spice has been named one of the top Indian restaurants around and who are we to keep it all to ourselves?!', 'So, to kickstart your visit, a glass of mulled wine and a sweet treat will be waiting for your arrival, the afternoon is then yours to do as you please.', 'Whether that be a stroll along the beach with a toe dip in the sea, exploring the sights of the charming town of Aldeburgh, or shopping till you drop in the high street.', 'Sea Spice will be ready to heat up your evening when you return.', \"View Winter Spice Package Lookout over the beach with one of our Sea View Double's or Superior Sea View rooms, or enjoy the privacy and cosiness of one of\\xa0our Inland Facing Bedrooms.\", 'Our full Suffolk breakfast is included in this fantastic package for you to devour before departing for your next adventure!', '(Or, you can always stay another night 😉) Our Folk look forward to looking after you this winter.', 'Find Out More To make a reservation or for further details, please contact our friendly reservations team on 01728 452720 or email us at reservations@whitelion.co.uk .', '*Excludes 24th December - 1st January.', 'Unsubscribe Forward'], [\"🙌 STAYCATION Autumn/Winter Staycation Offers Autumn/Winter 2020 View in browser ACCOMMODATION DINING ACTIVITIES Dear Sandra Staycation Autumn / Winter There is nothing else for it this year but to Staycation at home,\\xa0 we've created some super offers throughout the Autumn & Winter and hope to see you at The Inn soon.\", '£59 Staycation Bed & Breakfast Offer Available from now until 20th\\xa0December 2020.', 'Stay any Sunday/Monday/Thursday\\xa0from £59 per room per night - Glen Douglas & Loch Lomond Rooms, £30 supplement on a Friday and £50 on a Saturday.', 'Room upgrades are available for a small supplement.', 'BOOK NOW £89 Staycation Dinner Bed & Breakfast Offer Stay from now until 31st March 2021 and enjoy our Dinner Bed & Breakfast Offer from £89 per room per night.', 'Room upgrades & Friday/Saturday night supplements apply.', 'BOOK NOW TOP THINGS TO DO Loch Lomond Shores 4X4 Adventures Scotland Cruise Loch Lomond Cycle Luss Our Commitment As we continue\\xa0to welcome guests to the hotel and with health & well being paramount we have\\nintroduced an enhanced set of hygiene and safety measures to give you peace of\\nmind.', 'As always our priority and commitment to you remains to ensure\\nthat you have the best possible time whilst with us.', 'OUR COMMITMENT BOOK DIRECT BEST RATES & E XCLUSIVE OFFERS RESERVATION SUPPORT +44 (0)1436 860678 RES@INNONLOCHLOMOND.CO.UK Hope to see you soon at The Inn on Loch Lomond.', 'Be sure to follow us on twitter or Like our page on Facebook to join our growing Inn on Loch Lomond community of friends for news and special offer updates.', 'The Inn on Loch Lomond, Loch Lomond, Inverbeg, Argyll & Bute G83 8PD Pikrevni Investments Ltd - Registered In Scotland No.SC042307 trading as The Inn on Loch Lomond Phone: +44 (0)1436 860 678 Emal: res@innonlochlomond.co.uk Data privacy has never been more important, and in light of the new General Data Protection Regulation (GDPR), coming into effect across the EU, the Lodge on Loch Lomond has updated its Privacy Policy and Cookies Policy.', 'This new law is built around the principles of transparency and control, something we at the Lodge on Loch Lomond has always taken pride in offering.', 'Your privacy is always our top priority, and, while we’ve updated our Privacy policies to comply with the new regulation, we haven’t changed the way we use, share or keep your information safe and secure.', 'To find out more, please take a look at our updated Privacy and Cookies Policy.', \"If you do not want to receive our newsletter anymore, please click the 'Unsubscribe' link below.\", 'If you wish to continue to receive these offers and updates without interruption, please ensure you add our email address to your email safe sender list.', 'TERMS AND CONDITIONS | PRIVACY POLICY | COOKIE POLICY | UNSUBSCRIBE']]\n"
     ]
    }
   ],
   "source": [
    "print(emails_sentlist)\n",
    "\n",
    "#FINAL RESULT: A list of list. Each element contains the sentences from 1 e-mail."
   ]
  },
  {
   "cell_type": "markdown",
   "metadata": {},
   "source": [
    "## Functions used to compute the features assortment"
   ]
  },
  {
   "cell_type": "markdown",
   "metadata": {},
   "source": [
    "### 1st assortment: linguistic features"
   ]
  },
  {
   "cell_type": "code",
   "execution_count": 2,
   "metadata": {},
   "outputs": [],
   "source": [
    "##Intermediary functions\n",
    "\n",
    "def get_case(string):\n",
    "    \"\"\"\n",
    "    return a number list containing: the number of entirely-capitalized words; binary indicator for whether sentence\n",
    "    is lowercase; binary indicator for whether the first word is capitalized.\n",
    "    \"\"\"\n",
    "    return [len([w for w in word_tokenize(string) if w.isupper()]), int(string.islower()), int(string[0].isupper())]\n",
    "\n",
    "def get_lexical(string):\n",
    "    \"\"\"\n",
    "    return the number of contractions in the sentence, normalized by length; average word length; average word\n",
    "    log-frequency according to Google Ngram corpus; average formality score as computed by Pavlick and\n",
    "    Nenkova (2015).\n",
    "    \"\"\"\n",
    "    # prepare\n",
    "    output = []\n",
    "    tokens = word_tokenize(string.lower())\n",
    "    length = len(tokens)\n",
    "\n",
    "    # 1. number of contractions, norm by length\n",
    "    cont_count = 0\n",
    "    for w in tokens:\n",
    "        if \"\\'\" in w and len(w) > 1:\n",
    "            cont_count += 1\n",
    "    output.append(round(cont_count/length, 2))\n",
    "\n",
    "    # 2. average word length\n",
    "    output.append(round(sum([len(w) for w in tokens])/length, 2))\n",
    "    \n",
    "    return output\n",
    "    \n",
    "def get_punctuation_number(string):\n",
    "    \"\"\"\n",
    "    punctuation Number of ‘?’, ‘...’, and ‘!’ in the sentence.\n",
    "    \"\"\"\n",
    "    punct_number = 0\n",
    "    tokens = word_tokenize(string)\n",
    "\n",
    "    for w in tokens:\n",
    "        if w in [\"?\", \"...\", \"!\", \";\"]:\n",
    "            punct_number += 1\n",
    "    return [punct_number]\n",
    "\n",
    "\n",
    "## Final function gathering all those stats and computing them on a sentence level\n",
    "\n",
    "def get_linguistic_features_sentence(string):\n",
    "    # get the easier-to-compute features\n",
    "    output = []\n",
    "    # 3 nums\n",
    "    output.extend(get_case(string))\n",
    "    # 2 nums\n",
    "    output.extend(get_lexical(string))\n",
    "    # 1 num\n",
    "    output.extend(get_punctuation_number(string))\n",
    "\n",
    "    # total of 6 nums per input sentence\n",
    "    return output\n",
    "\n",
    "##FINAL FUNCTION that gets applied on an e-mail level (list of sentences)\n",
    "\n",
    "def get_linguistic_features_all(sent_list):\n",
    "    \"\"\"\n",
    "    return an array of an array of features for the total sentence list\n",
    "    \"\"\"\n",
    "    # get list of raw number stats for each sentence\n",
    "    num_lists = []\n",
    "    for s in sent_list:\n",
    "        num_lists.append(get_linguistic_features_sentence(s))\n",
    "    # list into vec array\n",
    "    output = np.array(num_lists)\n",
    "    return output\n"
   ]
  },
  {
   "cell_type": "code",
   "execution_count": 6,
   "metadata": {},
   "outputs": [
    {
     "name": "stdout",
     "output_type": "stream",
     "text": [
      "get_case returns: [1, 0, 1]\n",
      "get_lexical returns: [0.0, 4.17]\n",
      "get_punctuation_number returns: [1]\n"
     ]
    }
   ],
   "source": [
    "## TEST OF FUNCTIONS\n",
    "\n",
    "test_string = \"I do not approve of this dissertation, it absolutely sucks !\"\n",
    "print(f\"get_case returns: {get_case(test_string)}\")\n",
    "print(f\"get_lexical returns: {get_lexical(test_string)}\")\n",
    "print(f\"get_punctuation_number returns: {get_punctuation_number(test_string)}\")"
   ]
  },
  {
   "cell_type": "markdown",
   "metadata": {},
   "source": [
    "### 2nd assortment: readability and sentiment features"
   ]
  },
  {
   "cell_type": "code",
   "execution_count": 7,
   "metadata": {},
   "outputs": [],
   "source": [
    "###IMPORTATION OF THE WORD LISTS \n",
    "HEDGE_WORDS = \"largely generally often rarely sometimes frequently occasionally seldom usually most several some almost practically apparently virtually basically approximately roughly somewhat somehow partially actually like something someone somebody somewhere think thinks thought believe believed believes consider considers considered assume assumes assumed understand understands understood find found finds appear appears appeared seem seems seemed suppose supposes supposed guess guesses guessed estimate estimates estimated speculate speculates speculated suggest suggests suggested may could should might surely probably likely maybe perhaps unsure probable unlikely possibly possible read say says looks like look like don't know necessarily kind of much bunch couple few little really and all that and so forth et cetera in my mind in my opinion their impression my impression in my understanding my thinking is my understanding is in my view if i'm understanding you correctly something or other so far at least  about around can effectively evidently fairly hopefully in general mainly more or less mostly overall presumably  pretty quite clearly quite rather sort of supposedly  tend appear to be doubt be sure indicate will must would certainly definitely clearly conceivably certain definite clear assumption possibility probability  many almost never improbable always rare consistent with doubtful suggestive diagnostic inconclusive apparent alleged allege a bit presumable\".split()\n",
    "FIRST_PERSON_PRONOUNS = ['I', 'me', 'my', 'mine', 'we', 'us', 'our', 'ours', 'my', 'mine', 'our', 'ours']\n",
    "THIRD_PERSON_PRONOUNS = ['he', 'she', 'it', 'one', 'they', 'him', 'her', 'it', 'one', 'them', 'his', 'hers', 'theirs', 'himself', 'herself', 'itself', 'oneself', 'themselves']"
   ]
  },
  {
   "cell_type": "code",
   "execution_count": 8,
   "metadata": {},
   "outputs": [],
   "source": [
    "\n",
    "def get_readability(text):\n",
    "    \"\"\"\n",
    "    return the length of the sentence, in words and characters; Flesch-readability ease score.\n",
    "    \"\"\"\n",
    "    try:\n",
    "        blob = TextBlob(text)\n",
    "        results = readability.getmeasures(text, lang='en')\n",
    "        return [len(blob.words), len(text), round(results['readability grades']['FleschReadingEase'], 2)]\n",
    "    except ValueError:\n",
    "        return [len(blob.words), len(text),100]\n",
    "\n",
    "\n",
    "def get_subjectivity_features(text):\n",
    "    \"\"\"\n",
    "    return number of passive constructions; number of hedge words, according to a word list; number of 1st\n",
    "    person pronouns; number of 3rd person pronouns; subjectivity according to the TextBlob sentiment\n",
    "    module; binary indicator for whether the sentiment is positive or negative, according to TextBlob\n",
    "    \n",
    "    The subjectivity is a float within the range [0.0, 1.0], from most objective (0) to most subjective (1)\n",
    "    \"\"\"\n",
    "    res = []\n",
    "    blob = TextBlob(text)\n",
    "    \n",
    "    def get_passive_count(text):\n",
    "        nlp = spacy.load(\"en_core_web_sm\")\n",
    "        doc = nlp(text)\n",
    "        count = 0\n",
    "        for tok in doc:\n",
    "            if tok.dep_.find(\"subjpass\") == True:\n",
    "                count += 1\n",
    "        return count\n",
    "    \n",
    "    def get_count(word_list):\n",
    "        count = 0\n",
    "        for word in word_list:\n",
    "            count += blob.words.count(word)\n",
    "        return count \n",
    "    \n",
    "    length = len(blob.words)\n",
    "    if length!=0:\n",
    "        #res.append(round(get_passive_count(text)/length, 2))\n",
    "        res.append(round(get_count(HEDGE_WORDS)/length, 2))\n",
    "        res.append(round(get_count(FIRST_PERSON_PRONOUNS)/length, 2))  \n",
    "        res.append(round(get_count(THIRD_PERSON_PRONOUNS)/length, 2))\n",
    "        #res.append([0,1][blob.sentiment.polarity>=0])\n",
    "        res.append(round(blob.sentiment.subjectivity, 2))\n",
    "    else:\n",
    "        res = [0,0,0,round(blob.sentiment.subjectivity, 2)]\n",
    "        \n",
    "    return res\n",
    "\n",
    "## Final function gathering all those stats and computing them on a sentence level\n",
    "\n",
    "def get_readability_features_sentence(string):\n",
    "    output = []\n",
    "    output.extend(get_readability(string))\n",
    "    output.extend(get_subjectivity_features(string))\n",
    "    # total of 9 nums per input sentence\n",
    "    return output\n",
    "\n",
    "def get_readability_features_all(sent_list):\n",
    "    \"\"\"\n",
    "    return an array of an array of features for the total sentence list\n",
    "    \"\"\"\n",
    "    # get list of raw number stats for each sentence\n",
    "    num_lists = []\n",
    "    for s in sent_list:\n",
    "        num_lists.append(get_readability_features_sentence(s))\n",
    "    # list into vec array\n",
    "    output = np.array(num_lists)\n",
    "    return output\n",
    "    "
   ]
  },
  {
   "cell_type": "code",
   "execution_count": 9,
   "metadata": {},
   "outputs": [
    {
     "name": "stdout",
     "output_type": "stream",
     "text": [
      "1.0\n",
      "0\n",
      "get_readability returns: [0, 13, 100]\n",
      "get_readability returns: [12, 72, 60.71]\n",
      "get_subjectivity_features returns: [0.5, 0.08, 0.17, 1.0]\n"
     ]
    }
   ],
   "source": [
    "## TEST OF FUNCTIONS\n",
    "\n",
    "test_string = \":( :( :( :( )\"\n",
    "blob = TextBlob(test_string)\n",
    "print(blob.sentiment.subjectivity)\n",
    "print(len(blob.words))\n",
    "print(f\"get_readability returns: {get_readability(test_string)}\")\n",
    "\n",
    "test_string2 = \"This dissertation is wonderful, I've never seen anything like it before!\"\n",
    "print(f\"get_readability returns: {get_readability(test_string2)}\")\n",
    "print(f\"get_subjectivity_features returns: {get_subjectivity_features(test_string2)}\")"
   ]
  },
  {
   "cell_type": "markdown",
   "metadata": {},
   "source": [
    "### 3rd features assortment: entity-related (grammatical role)"
   ]
  },
  {
   "cell_type": "code",
   "execution_count": 10,
   "metadata": {},
   "outputs": [],
   "source": [
    "def get_pos_features_sentence(string):\n",
    "    \"\"\"\n",
    "    return POS Number of occurrences of each POS tag, as well as the average length of the words for each POS family.\n",
    "    \n",
    "    \"\"\"\n",
    "    interesting_tags=[\"N\",\"JJ\",\"IN\",\"RB\",\"VB\"]\n",
    "    tags_counts = [0,0,0,0,0]\n",
    "    tags_avg_lengths = [0,0,0,0,0]\n",
    "    for word, tag in pos_tag(word_tokenize(string)):\n",
    "        if 'N' == tag[0]:\n",
    "            tags_counts[0]+=1\n",
    "            tags_avg_lengths[0]+=len(word)\n",
    "        else:\n",
    "            for i in range(1,len(interesting_tags)):\n",
    "                pos_family = interesting_tags[i]\n",
    "                if pos_family == tag[0:2]:\n",
    "                    tags_counts[i]+=1\n",
    "                    tags_avg_lengths[i]+=len(word)\n",
    "                    break\n",
    "    tags_avg_lengths = [tags_avg_lengths[i]/tags_counts[i] if tags_counts[i]!=0 else 0 for i in range(len(tags_avg_lengths))]          \n",
    "    return tags_counts + tags_avg_lengths\n",
    "\n",
    "\n",
    "def get_pos_features_all(sent_list):\n",
    "    \"\"\"\n",
    "    return an array of an array of features for the total sentence list\n",
    "    \"\"\"\n",
    "    # get list of raw number stats for each sentence\n",
    "    num_lists = []\n",
    "    for s in sent_list:\n",
    "        num_lists.append(get_pos_features_sentence(s))\n",
    "    # list into vec array\n",
    "    output = np.array(num_lists)\n",
    "    return output"
   ]
  },
  {
   "cell_type": "code",
   "execution_count": 11,
   "metadata": {},
   "outputs": [
    {
     "name": "stdout",
     "output_type": "stream",
     "text": [
      "[3, 1, 1, 1, 4, 11.0, 6.0, 2.0, 12.0, 5.0]\n"
     ]
    }
   ],
   "source": [
    "## TEST OF FUNCTIONS\n",
    "\n",
    "test_string = \"I think this dissertation could take a little improvement, particularly when looking at the vocabulary used.\"\n",
    "res = get_pos_features_sentence(test_string)\n",
    "print(res)"
   ]
  },
  {
   "cell_type": "code",
   "execution_count": 12,
   "metadata": {},
   "outputs": [],
   "source": [
    "corpus_dict = pk.load(open('corpus_dict.pk','rb'))\n",
    "corpus_sent_list = []\n",
    "corpus_sent_list.extend(corpus_dict[\"formal\"])\n",
    "corpus_sent_list.extend(corpus_dict[\"informal\"])"
   ]
  },
  {
   "cell_type": "markdown",
   "metadata": {},
   "source": [
    "## Extraction of the 3 features assortments on the GYAC training corpus of 110k sentences"
   ]
  },
  {
   "cell_type": "code",
   "execution_count": 50,
   "metadata": {},
   "outputs": [],
   "source": [
    "def extract_all_features_assortments(corpus_file_name):\n",
    "    corpus_dict = pk.load(open(corpus_file_name,'rb'))\n",
    "    corpus_sent_list = []\n",
    "    corpus_sent_list.extend(corpus_dict[\"formal\"])\n",
    "    corpus_sent_list.extend(corpus_dict[\"informal\"])\n",
    "    \n",
    "    print(\"Extracting POS-related features....\")\n",
    "    try: \n",
    "        pos_features_corpus = pk.load(open('pos_features.pk','rb'))\n",
    "    except FileNotFoundError:\n",
    "        pos_features_corpus = get_pos_features_all(corpus_sent_list)  \n",
    "        #pk.dump(pos_features_corpus, open('pos_features.pk','wb'))\n",
    "    print(\"End of the extraction of POS-related features!\")\n",
    "    \n",
    "    print(\"Extracting readability features....\")\n",
    "    try:\n",
    "        read_features_corpus = pk.load(open('readability_features.pk','rb'))\n",
    "    except FileNotFoundError:    \n",
    "        read_features_corpus = get_readability_features_all(corpus_sent_list)\n",
    "        #pk.dump(read_features_corpus,open('readability_features.pk','wb'))\n",
    "    print(\"End of the extraction of readability features!\")\n",
    "        \n",
    "    \n",
    "    print(\"Extracting linguistic features....\")\n",
    "    try:\n",
    "        linguistic_features_corpus=pk.load(open('linguistic_features.pk','rb'))\n",
    "    except FileNotFoundError:\n",
    "        linguistic_features_corpus = get_linguistic_features_all(corpus_sent_list)        \n",
    "        #pk.dump(linguistic_features_corpus, open('linguistic_features.pk','wb'))\n",
    "    print(\"End of the extraction of linguistic features!\")\n",
    "    \n",
    "    return \"EXTRACTION FINISHED!\"\n",
    "    "
   ]
  },
  {
   "cell_type": "code",
   "execution_count": 48,
   "metadata": {
    "scrolled": true
   },
   "outputs": [
    {
     "name": "stdout",
     "output_type": "stream",
     "text": [
      "Extracting POS-related features....\n",
      "End of the extraction of POS-related features!\n",
      "Extracting readability features....\n",
      "End of the extraction of readability features!\n",
      "Extracting linguistic features....\n",
      "End of the extraction of linguistic features!\n"
     ]
    },
    {
     "data": {
      "text/plain": [
       "'EXTRACTION FINISHED!'"
      ]
     },
     "execution_count": 48,
     "metadata": {},
     "output_type": "execute_result"
    }
   ],
   "source": [
    "extract_all_features_assortments('corpus_dict.pk')"
   ]
  },
  {
   "cell_type": "markdown",
   "metadata": {},
   "source": [
    "### computation of the features arrays for the e-mails"
   ]
  },
  {
   "cell_type": "code",
   "execution_count": 13,
   "metadata": {},
   "outputs": [
    {
     "name": "stdout",
     "output_type": "stream",
     "text": [
      "linguistic features: [1, 0, 1, 0.0, 3.0, 1]\n",
      "readability features: [9, 41, 113.1, 0.22, 0.11, 0.22, 0.48]\n",
      "POS-tagsfeatures: [2, 1, 0, 1, 2, 3.5, 5.0, 0, 6.0, 3.0]\n"
     ]
    }
   ],
   "source": [
    "test_sentence = \"I love this blue car, it is simply great!\"\n",
    "print(f\"linguistic features: {get_linguistic_features_sentence(test_sentence)}\")\n",
    "print(f\"readability features: {get_readability_features_sentence(test_sentence)}\")\n",
    "print(f\"POS-tagsfeatures: {get_pos_features_sentence(test_sentence)}\")\n"
   ]
  },
  {
   "cell_type": "code",
   "execution_count": 10,
   "metadata": {},
   "outputs": [],
   "source": [
    "def extract_ling_stats_features(sent_list):\n",
    "    res = []\n",
    "    for sent in sent_list:\n",
    "        res.append(get_linguistic_features_sentence(sent))\n",
    "    res = np.array(res)\n",
    "    return res\n",
    "\n"
   ]
  },
  {
   "cell_type": "code",
   "execution_count": 11,
   "metadata": {},
   "outputs": [
    {
     "name": "stdout",
     "output_type": "stream",
     "text": [
      "[[1.   0.   1.   0.   4.46 1.  ]\n",
      " [1.   0.   1.   0.   3.   0.  ]\n",
      " [0.   0.   1.   0.   4.44 0.  ]]\n"
     ]
    }
   ],
   "source": [
    "##TEST OF FUNCTIONS\n",
    "\n",
    "sent_list_test = [\"I do not approve of this terrible dissertation, it absolutely sucks !\", \n",
    "                  \"I love this blue car, it is simply great.\", \n",
    "                  \"The mitochondria is the powerhouse of the cell.\"]\n",
    "\n",
    "test_stats = extract_ling_stats_features(sent_list_test)\n",
    "print(test_stats)\n"
   ]
  },
  {
   "cell_type": "code",
   "execution_count": 12,
   "metadata": {},
   "outputs": [
    {
     "ename": "FileNotFoundError",
     "evalue": "[Errno 2] No such file or directory: 'model/fast_number_dt.jbl'",
     "output_type": "error",
     "traceback": [
      "\u001b[1;31m---------------------------------------------------------------------------\u001b[0m",
      "\u001b[1;31mFileNotFoundError\u001b[0m                         Traceback (most recent call last)",
      "\u001b[1;32m<ipython-input-12-7d93714e221c>\u001b[0m in \u001b[0;36m<module>\u001b[1;34m\u001b[0m\n\u001b[0;32m      1\u001b[0m \u001b[1;31m## Loading the trained model\u001b[0m\u001b[1;33m\u001b[0m\u001b[1;33m\u001b[0m\u001b[1;33m\u001b[0m\u001b[0m\n\u001b[1;32m----> 2\u001b[1;33m \u001b[0mDT_emails\u001b[0m \u001b[1;33m=\u001b[0m \u001b[0mjbl\u001b[0m\u001b[1;33m.\u001b[0m\u001b[0mload\u001b[0m\u001b[1;33m(\u001b[0m\u001b[1;34m\"model/fast_number_dt.jbl\"\u001b[0m\u001b[1;33m)\u001b[0m\u001b[1;33m\u001b[0m\u001b[1;33m\u001b[0m\u001b[0m\n\u001b[0m",
      "\u001b[1;32mD:\\ProgramFiles\\Anaconda\\lib\\site-packages\\joblib\\numpy_pickle.py\u001b[0m in \u001b[0;36mload\u001b[1;34m(filename, mmap_mode)\u001b[0m\n\u001b[0;32m    575\u001b[0m             \u001b[0mobj\u001b[0m \u001b[1;33m=\u001b[0m \u001b[0m_unpickle\u001b[0m\u001b[1;33m(\u001b[0m\u001b[0mfobj\u001b[0m\u001b[1;33m)\u001b[0m\u001b[1;33m\u001b[0m\u001b[1;33m\u001b[0m\u001b[0m\n\u001b[0;32m    576\u001b[0m     \u001b[1;32melse\u001b[0m\u001b[1;33m:\u001b[0m\u001b[1;33m\u001b[0m\u001b[1;33m\u001b[0m\u001b[0m\n\u001b[1;32m--> 577\u001b[1;33m         \u001b[1;32mwith\u001b[0m \u001b[0mopen\u001b[0m\u001b[1;33m(\u001b[0m\u001b[0mfilename\u001b[0m\u001b[1;33m,\u001b[0m \u001b[1;34m'rb'\u001b[0m\u001b[1;33m)\u001b[0m \u001b[1;32mas\u001b[0m \u001b[0mf\u001b[0m\u001b[1;33m:\u001b[0m\u001b[1;33m\u001b[0m\u001b[1;33m\u001b[0m\u001b[0m\n\u001b[0m\u001b[0;32m    578\u001b[0m             \u001b[1;32mwith\u001b[0m \u001b[0m_read_fileobject\u001b[0m\u001b[1;33m(\u001b[0m\u001b[0mf\u001b[0m\u001b[1;33m,\u001b[0m \u001b[0mfilename\u001b[0m\u001b[1;33m,\u001b[0m \u001b[0mmmap_mode\u001b[0m\u001b[1;33m)\u001b[0m \u001b[1;32mas\u001b[0m \u001b[0mfobj\u001b[0m\u001b[1;33m:\u001b[0m\u001b[1;33m\u001b[0m\u001b[1;33m\u001b[0m\u001b[0m\n\u001b[0;32m    579\u001b[0m                 \u001b[1;32mif\u001b[0m \u001b[0misinstance\u001b[0m\u001b[1;33m(\u001b[0m\u001b[0mfobj\u001b[0m\u001b[1;33m,\u001b[0m \u001b[0mstr\u001b[0m\u001b[1;33m)\u001b[0m\u001b[1;33m:\u001b[0m\u001b[1;33m\u001b[0m\u001b[1;33m\u001b[0m\u001b[0m\n",
      "\u001b[1;31mFileNotFoundError\u001b[0m: [Errno 2] No such file or directory: 'model/fast_number_dt.jbl'"
     ]
    }
   ],
   "source": [
    "## Loading the trained model\n",
    "DT_emails = jbl.load(\"model/fast_number_dt.jbl\")"
   ]
  },
  {
   "cell_type": "code",
   "execution_count": 10,
   "metadata": {},
   "outputs": [
    {
     "data": {
      "text/plain": [
       "array([[1.        , 0.        ],\n",
       "       [0.74636364, 0.25363636],\n",
       "       [0.88764045, 0.11235955]])"
      ]
     },
     "execution_count": 10,
     "metadata": {},
     "output_type": "execute_result"
    }
   ],
   "source": [
    "test_res = DT_emails.predict_proba(test_stats)\n",
    "test_res"
   ]
  },
  {
   "cell_type": "code",
   "execution_count": 11,
   "metadata": {},
   "outputs": [
    {
     "data": {
      "text/plain": [
       "array([0.87800136, 0.12199864])"
      ]
     },
     "execution_count": 11,
     "metadata": {},
     "output_type": "execute_result"
    }
   ],
   "source": [
    "test_res.mean(axis=0)"
   ]
  },
  {
   "cell_type": "code",
   "execution_count": 12,
   "metadata": {},
   "outputs": [],
   "source": [
    "def prediction_proba_emails(emails_sent_list, DT):\n",
    "    results = []\n",
    "    for email in emails_sent_list:\n",
    "        title = email[0]\n",
    "        features = extract_ling_stats_features(email)\n",
    "        proba_arrays = DT.predict_proba(features) ##the array of the prediction probabilities for every sentence\n",
    "        results.append((title, proba_arrays.mean(axis=0)))\n",
    "    return results"
   ]
  },
  {
   "cell_type": "code",
   "execution_count": 13,
   "metadata": {},
   "outputs": [
    {
     "data": {
      "text/plain": [
       "[('April Offer - Especially for You from The Inn 😍 April Offer from The Inn - Dinner Bed & Breakfast View in browser ACCOMMODATION DINING EVENTS Dear Sandra The Inn on Loch Lomond £89 Dinner Bed & Breakfast Offer Stay in April for £89 - per room per night inclusive of dinner bed & breakfast - Loch Lomond or Glen Douglas Rooms .',\n",
       "  array([0.56355941, 0.43644059])),\n",
       " ('BLACK FRIDAY - 40% OFF & PAY WHEN YOU STAY Black Friday - Save 40% BOOK NOW With 40% off, enjoy a winter break and look forward to great Scottish escapes in 2021.',\n",
       "  array([0.78280326, 0.21719674])),\n",
       " ('Easter Getaways Plumlocations Easter Breaks View in browser Hi Steve, After the pressure of another lockdown and for many home-schooling what better way to start looking forward to some hope by booking a Spring Getaway from 17th May.',\n",
       "  array([0.74150714, 0.25849286])),\n",
       " ('Festive Celebrations and Year Round Breaks Festive celebrations and year round breaks View in browser Festive celebrations and year round breaks at Thainstone House are the perfect way to spend time together with family and friends.',\n",
       "  array([0.74667357, 0.25332643])),\n",
       " ('Important Information About Your Stay...', array([0.70300566, 0.29699434])),\n",
       " ('Mini book festival on 17 July 2021 - RSVP RSVP to our mini book festival by 28\\xa0June 2021.',\n",
       "  array([0.81219161, 0.18780839])),\n",
       " (\"Oh Glencoe, we've missed you.\", array([0.76663113, 0.23336887])),\n",
       " (\"Pet Friendly Holidays 🐶 Pet Friendly Holidays View in browser Hi Steve, At Plumlocations we understand that your furry friend is as much a part of the family as you are, that's why we are delighted to be a pet friendly holiday company.\",\n",
       "  array([0.74214891, 0.25785109])),\n",
       " ('Refer a friend and get a £20 voucher!', array([0.68057293, 0.31942707])),\n",
       " ('Thanks for staying!', array([0.61701031, 0.38298969])),\n",
       " ('⛳ Your Winter Golfing Offers Are Here!', array([0.69874593, 0.30125407])),\n",
       " (\"🎁 BLACK FRIDAY AT THE SWAN Limited time only, don't miss out!\",\n",
       "  array([0.69334632, 0.30665368])),\n",
       " ('🎁 JANUARY SALE EXCLUSIVE 🎁 Not to be missed, starting 2021 the right way!',\n",
       "  array([0.64484169, 0.35515831])),\n",
       " ('🎁 Make this December one to remember Allow us to look after you this festive season.. View in browser S T A Y | D I N E | S P A | C H R I S T M A S The Silent Night retreat you deserve... ⭐ Limited time offer!',\n",
       "  array([0.73566591, 0.26433409])),\n",
       " ('👌 CYBER MONDAY OFFERS - Limited Availability!',\n",
       "  array([0.59787701, 0.40212299])),\n",
       " (\"💅 Spa & Beauty Treatment Offers at the Lodge Spa Treatments now available\\xa0January to March 2020 View in browser STAY DINING LEISURE Spa & Beauty Treatments Now Available Monday & Tuesday's January to March 2020 Dear Sandra, Special Introductory Offer £49pp Spa Treatments will now be available within our Fleming Suite on Monday/Tuesdays from 20th January until 31st March 2020 inclusive (with the exception of 4 th February) from 10.00am until 5.00pm.\",\n",
       "  array([0.61547698, 0.38452302])),\n",
       " (\"💕 The Perfect Valentine Gift Helping you make the best of Valentine's Day for your loved one... View in browser Valentine's Day might be\\xa0another occasion\\xa0to be swept up by the restrictions of lockdown #3 with wining and dining limited to your front room on the day itself.\",\n",
       "  array([0.6777365, 0.3222635])),\n",
       " ('🔥 Your Winter Spice special offer!', array([0.65583547, 0.34416453])),\n",
       " (\"🙌 STAYCATION Autumn/Winter Staycation Offers Autumn/Winter 2020 View in browser ACCOMMODATION DINING ACTIVITIES Dear Sandra Staycation Autumn / Winter There is nothing else for it this year but to Staycation at home,\\xa0 we've created some super offers throughout the Autumn & Winter and hope to see you at The Inn soon.\",\n",
       "  array([0.54216566, 0.45783434]))]"
      ]
     },
     "execution_count": 13,
     "metadata": {},
     "output_type": "execute_result"
    }
   ],
   "source": [
    "final_preds = prediction_proba_emails(emails_sentlist, DT_emails)\n",
    "final_preds"
   ]
  },
  {
   "cell_type": "code",
   "execution_count": 14,
   "metadata": {},
   "outputs": [],
   "source": [
    "### WRONG: consider that every sentence from an informal document is in fact informal. "
   ]
  },
  {
   "cell_type": "code",
   "execution_count": 15,
   "metadata": {},
   "outputs": [],
   "source": [
    "import seaborn as sns\n",
    "import matplotlib.pyplot as plt\n",
    "\n",
    "y = [ x[1][0] for x in final_preds]"
   ]
  },
  {
   "cell_type": "code",
   "execution_count": 16,
   "metadata": {},
   "outputs": [
    {
     "data": {
      "image/png": "[encoded data removed]",
      "text/plain": [
       "<Figure size 432x288 with 1 Axes>"
      ]
     },
     "metadata": {
      "needs_background": "light"
     },
     "output_type": "display_data"
    }
   ],
   "source": [
    "sns.histplot(y, bins = 12)\n",
    "plt.xlabel = \"Formality score\""
   ]
  },
  {
   "cell_type": "code",
   "execution_count": null,
   "metadata": {},
   "outputs": [],
   "source": []
  }
 ],
 "metadata": {
  "kernelspec": {
   "display_name": "Python 3",
   "language": "python",
   "name": "python3"
  },
  "language_info": {
   "codemirror_mode": {
    "name": "ipython",
    "version": 3
   },
   "file_extension": ".py",
   "mimetype": "text/x-python",
   "name": "python",
   "nbconvert_exporter": "python",
   "pygments_lexer": "ipython3",
   "version": "3.8.5"
  }
 },
 "nbformat": 4,
 "nbformat_minor": 4
}
