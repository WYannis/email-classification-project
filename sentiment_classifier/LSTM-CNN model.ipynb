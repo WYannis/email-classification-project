{
 "cells": [
  {
   "cell_type": "markdown",
   "metadata": {},
   "source": [
    "# This notebook implements the training phase of the LSTM-CNN model"
   ]
  },
  {
   "cell_type": "markdown",
   "metadata": {},
   "source": [
    "## Libraries importations"
   ]
  },
  {
   "cell_type": "code",
   "execution_count": 65,
   "metadata": {},
   "outputs": [],
   "source": [
    "%run auxiliaryfunctions.ipynb\n",
    "\n",
    "import numpy as np\n",
    "import pandas as pd\n",
    "import pickle as pk\n",
    "import re, sys, os, csv, keras\n",
    "\n",
    "from keras import regularizers, initializers, optimizers, callbacks\n",
    "from keras.preprocessing.text import Tokenizer\n",
    "from keras.preprocessing.sequence import pad_sequences\n",
    "from keras.utils.np_utils import to_categorical\n",
    "from keras.layers import Embedding\n",
    "from keras.layers import Dense, Input, Flatten, Concatenate\n",
    "from keras.layers import Conv1D, MaxPooling1D, Embedding, Dropout, LSTM, GRU, Bidirectional\n",
    "from keras.models import Model\n",
    "from keras import backend as K\n",
    "from tensorflow.keras.layers import Layer, InputSpec "
   ]
  },
  {
   "cell_type": "markdown",
   "metadata": {},
   "source": [
    "## Implementation of the LSTM-CNN model"
   ]
  },
  {
   "cell_type": "markdown",
   "metadata": {},
   "source": [
    "### Preparing the embedding layers\n",
    "\n",
    "- Extract the GloVe vector embedding of the words that are present in our tweets corpus word tokens list.\n",
    "- Create two embedding matrixes for both the non static/static channels of the neural network.\n",
    "- Construct and initialize the embedding layers based on those two matrixes\n",
    "\n",
    "We use pre-trained [GloVe](https://nlp.stanford.edu/projects/glove/) vectors from Stanford NLP. "
   ]
  },
  {
   "cell_type": "code",
   "execution_count": 66,
   "metadata": {},
   "outputs": [
    {
     "name": "stdout",
     "output_type": "stream",
     "text": [
      "Tweet dataset shape: (40000, 4)\n",
      "empty : @tiffanylue i know  i was listenin to bad habit earlier and i started freakin at his part =[\n",
      "Parameters for the embedding and pre-processing:\n",
      " 40000 35 0.3 200 \n",
      " dataset/glove/glove.twitter.27B.200d.txt\n",
      "Reading from the csv file...Done!\n",
      "Succesfully save the word tokenizer to file: tokenizer.pkl\n",
      "Found 27496 unique tokens.\n",
      "Shape of data tensor: (33402, 30)\n",
      "Shape of label tensor: (33402, 4)\n",
      "Number of entries in each category:\n",
      "Training:\n",
      " [6739. 4203. 6554. 5885.]\n",
      "Testing:\n",
      " [2905. 1765. 2777. 2574.]\n",
      "Loading the GloVe embeddings from: dataset/glove/glove.twitter.27B.200d.txt ...Done.\n",
      " Proceeding with Embedding Matrix...Embedding with GloVe vectors is completed!\n"
     ]
    }
   ],
   "source": [
    "%run Preprocessing_data.ipynb\n",
    "\n",
    "embeddings_index = {}\n",
    "f = open(GLOVE_DIR, encoding ='utf-8')\n",
    "print(\"Loading the GloVe embeddings from:\",GLOVE_DIR,\"...\",end=\"\")\n",
    "for line in f:\n",
    "    values = line.split()\n",
    "    word = values[0]\n",
    "    embeddings_index[word] = np.asarray(values[1:], dtype='float32')\n",
    "f.close()\n",
    "print(\"Done.\\n Proceeding with Embedding Matrix...\", end=\"\")\n",
    "embedding_matrix = np.random.random((len(word_index) + 1, EMBEDDING_DIM))\n",
    "for word, i in word_index.items():\n",
    "    embedding_vector = embeddings_index.get(word)\n",
    "    if embedding_vector is not None:\n",
    "        # words not found in embedding index will be all-zeros.\n",
    "        embedding_matrix[i] = embedding_vector\n",
    "print(\"Embedding with GloVe vectors is completed!\")"
   ]
  },
  {
   "cell_type": "code",
   "execution_count": 105,
   "metadata": {},
   "outputs": [
    {
     "name": "stdout",
     "output_type": "stream",
     "text": [
      "Embedding for non-static completed!\n"
     ]
    }
   ],
   "source": [
    "# second embedding matrix for non-static channel\n",
    "embedding_matrix_ns = np.random.random((len(word_index) + 1, EMBEDDING_DIM))\n",
    "for word, i in word_index.items():\n",
    "    embedding_vector = embeddings_index.get(word)\n",
    "    if embedding_vector is not None:\n",
    "        # words not found in embedding index will be all-zeros.\n",
    "        embedding_matrix_ns[i] = embedding_vector\n",
    "print(\"Embedding for non-static completed!\")"
   ]
  },
  {
   "cell_type": "code",
   "execution_count": 106,
   "metadata": {},
   "outputs": [],
   "source": [
    "sequence_input = Input(shape=(MAX_SEQUENCE_LENGTH,), dtype='int32')\n",
    "\n",
    "# static channel\n",
    "embedding_layer_frozen = Embedding(len(word_index) + 1,\n",
    "                            EMBEDDING_DIM,\n",
    "                            weights=[embedding_matrix],\n",
    "                            input_length=MAX_SEQUENCE_LENGTH,\n",
    "                            trainable=False)\n",
    "embedded_sequences_frozen = embedding_layer_frozen(sequence_input)\n",
    "\n",
    "# non-static channel\n",
    "embedding_layer_train = Embedding(len(word_index) + 1,\n",
    "                            EMBEDDING_DIM,\n",
    "                            weights=[embedding_matrix_ns],\n",
    "                            input_length=MAX_SEQUENCE_LENGTH,\n",
    "                            trainable=True)\n",
    "embedded_sequences_train = embedding_layer_train(sequence_input)"
   ]
  },
  {
   "cell_type": "markdown",
   "metadata": {},
   "source": [
    "## Construction of the neural network: first comes the LSTM layers, then the CNN layers."
   ]
  },
  {
   "cell_type": "code",
   "execution_count": 107,
   "metadata": {},
   "outputs": [],
   "source": [
    "l_lstm1f = Bidirectional(LSTM(5,return_sequences=True,dropout=0.3, recurrent_dropout=0.0))(embedded_sequences_frozen)\n",
    "l_lstm1t = Bidirectional(LSTM(5,return_sequences=True,dropout=0.3, recurrent_dropout=0.0))(embedded_sequences_train)\n",
    "\n",
    "l_lstm1 = Concatenate(axis=1)([l_lstm1f, l_lstm1t])"
   ]
  },
  {
   "cell_type": "code",
   "execution_count": 108,
   "metadata": {},
   "outputs": [],
   "source": [
    "l_conv_2 = Conv1D(filters=20,kernel_size=2,activation='relu')(l_lstm1)\n",
    "l_conv_2 = Dropout(0.3)(l_conv_2)\n",
    "\n",
    "l_conv_3 = Conv1D(filters=20,kernel_size=3,activation='relu')(l_lstm1)\n",
    "l_conv_3 = Dropout(0.3)(l_conv_3)\n",
    "\n",
    "l_conv_5 = Conv1D(filters=20,kernel_size=5,activation='relu',)(l_lstm1)\n",
    "l_conv_5 = Dropout(0.3)(l_conv_5)\n",
    "\n",
    "l_conv_6 = Conv1D(filters=20,kernel_size=6,activation='relu',kernel_regularizer=regularizers.l2(0.0001))(l_lstm1)\n",
    "l_conv_6 = Dropout(0.3)(l_conv_6)\n",
    "\n",
    "l_conv_7 = Conv1D(filters=20,kernel_size=8,activation='relu',kernel_regularizer=regularizers.l2(0.0001))(l_lstm1)\n",
    "l_conv_7 = Dropout(0.3)(l_conv_8)\n",
    "\n",
    "conv_1 = [l_conv_6,l_conv_5, l_conv_7,l_conv_2,l_conv_3]\n",
    "\n",
    "l_lstm_c = Concatenate(axis=1)(conv_1)"
   ]
  },
  {
   "cell_type": "code",
   "execution_count": 109,
   "metadata": {},
   "outputs": [],
   "source": [
    "l_pool = MaxPooling1D(3)(l_lstm_c)\n",
    "l_drop = Dropout(0.5)(l_pool)\n",
    "l_flat = Flatten()(l_drop)\n",
    "l_dense = Dense(26, activation='relu')(l_flat)\n",
    "preds = Dense(4, activation='softmax')(l_dense)"
   ]
  },
  {
   "cell_type": "code",
   "execution_count": 110,
   "metadata": {},
   "outputs": [
    {
     "name": "stderr",
     "output_type": "stream",
     "text": [
      "D:\\ProgramFiles\\Anaconda\\lib\\site-packages\\keras\\optimizer_v2\\optimizer_v2.py:355: UserWarning: The `lr` argument is deprecated, use `learning_rate` instead.\n",
      "  warnings.warn(\n"
     ]
    }
   ],
   "source": [
    "import tensorflow as tf\n",
    "\n",
    "model = Model(sequence_input, preds)\n",
    "adadelta = tf.keras.optimizers.Adadelta(lr=0.9, rho=0.95, epsilon=None, decay=0.002)\n",
    "lr_metric = get_lr_metric(adadelta)\n",
    "model.compile(loss='categorical_crossentropy',\n",
    "              optimizer=adadelta,\n",
    "              metrics=['acc'])"
   ]
  },
  {
   "cell_type": "markdown",
   "metadata": {},
   "source": [
    "Summary of the model:"
   ]
  },
  {
   "cell_type": "code",
   "execution_count": 111,
   "metadata": {},
   "outputs": [
    {
     "name": "stdout",
     "output_type": "stream",
     "text": [
      "Model: \"model_14\"\n",
      "__________________________________________________________________________________________________\n",
      "Layer (type)                    Output Shape         Param #     Connected to                     \n",
      "==================================================================================================\n",
      "input_7 (InputLayer)            [(None, 30)]         0                                            \n",
      "__________________________________________________________________________________________________\n",
      "embedding_6 (Embedding)         (None, 30, 200)      5499400     input_7[0][0]                    \n",
      "__________________________________________________________________________________________________\n",
      "embedding_7 (Embedding)         (None, 30, 200)      5499400     input_7[0][0]                    \n",
      "__________________________________________________________________________________________________\n",
      "bidirectional_18 (Bidirectional (None, 30, 10)       8240        embedding_6[0][0]                \n",
      "__________________________________________________________________________________________________\n",
      "bidirectional_19 (Bidirectional (None, 30, 10)       8240        embedding_7[0][0]                \n",
      "__________________________________________________________________________________________________\n",
      "concatenate_24 (Concatenate)    (None, 60, 10)       0           bidirectional_18[0][0]           \n",
      "                                                                 bidirectional_19[0][0]           \n",
      "__________________________________________________________________________________________________\n",
      "conv1d_53 (Conv1D)              (None, 55, 20)       1220        concatenate_24[0][0]             \n",
      "__________________________________________________________________________________________________\n",
      "conv1d_52 (Conv1D)              (None, 56, 20)       1020        concatenate_24[0][0]             \n",
      "__________________________________________________________________________________________________\n",
      "conv1d_54 (Conv1D)              (None, 53, 20)       1620        concatenate_24[0][0]             \n",
      "__________________________________________________________________________________________________\n",
      "conv1d_50 (Conv1D)              (None, 59, 20)       420         concatenate_24[0][0]             \n",
      "__________________________________________________________________________________________________\n",
      "conv1d_51 (Conv1D)              (None, 58, 20)       620         concatenate_24[0][0]             \n",
      "__________________________________________________________________________________________________\n",
      "dropout_64 (Dropout)            (None, 55, 20)       0           conv1d_53[0][0]                  \n",
      "__________________________________________________________________________________________________\n",
      "dropout_63 (Dropout)            (None, 56, 20)       0           conv1d_52[0][0]                  \n",
      "__________________________________________________________________________________________________\n",
      "dropout_65 (Dropout)            (None, 53, 20)       0           conv1d_54[0][0]                  \n",
      "__________________________________________________________________________________________________\n",
      "dropout_61 (Dropout)            (None, 59, 20)       0           conv1d_50[0][0]                  \n",
      "__________________________________________________________________________________________________\n",
      "dropout_62 (Dropout)            (None, 58, 20)       0           conv1d_51[0][0]                  \n",
      "__________________________________________________________________________________________________\n",
      "concatenate_25 (Concatenate)    (None, 281, 20)      0           dropout_64[0][0]                 \n",
      "                                                                 dropout_63[0][0]                 \n",
      "                                                                 dropout_65[0][0]                 \n",
      "                                                                 dropout_61[0][0]                 \n",
      "                                                                 dropout_62[0][0]                 \n",
      "__________________________________________________________________________________________________\n",
      "max_pooling1d_11 (MaxPooling1D) (None, 93, 20)       0           concatenate_25[0][0]             \n",
      "__________________________________________________________________________________________________\n",
      "dropout_66 (Dropout)            (None, 93, 20)       0           max_pooling1d_11[0][0]           \n",
      "__________________________________________________________________________________________________\n",
      "flatten_11 (Flatten)            (None, 1860)         0           dropout_66[0][0]                 \n",
      "__________________________________________________________________________________________________\n",
      "dense_22 (Dense)                (None, 26)           48386       flatten_11[0][0]                 \n",
      "__________________________________________________________________________________________________\n",
      "dense_23 (Dense)                (None, 4)            108         dense_22[0][0]                   \n",
      "==================================================================================================\n",
      "Total params: 11,068,674\n",
      "Trainable params: 5,569,274\n",
      "Non-trainable params: 5,499,400\n",
      "__________________________________________________________________________________________________\n"
     ]
    }
   ],
   "source": [
    "model.summary()\n",
    "model.save('LSTM-CNN.h5')"
   ]
  },
  {
   "cell_type": "markdown",
   "metadata": {},
   "source": [
    "## Training phase of the model: 50 epochs"
   ]
  },
  {
   "cell_type": "code",
   "execution_count": 112,
   "metadata": {},
   "outputs": [
    {
     "name": "stdout",
     "output_type": "stream",
     "text": [
      "Training phase starting:\n",
      "WARNING:tensorflow:`write_grads` will be ignored in TensorFlow 2.0 for the `TensorBoard` Callback.\n"
     ]
    },
    {
     "name": "stderr",
     "output_type": "stream",
     "text": [
      "WARNING:tensorflow:`write_grads` will be ignored in TensorFlow 2.0 for the `TensorBoard` Callback.\n"
     ]
    },
    {
     "name": "stdout",
     "output_type": "stream",
     "text": [
      "WARNING:tensorflow:`batch_size` is no longer needed in the `TensorBoard` Callback and will be ignored in TensorFlow 2.0.\n"
     ]
    },
    {
     "name": "stderr",
     "output_type": "stream",
     "text": [
      "WARNING:tensorflow:`batch_size` is no longer needed in the `TensorBoard` Callback and will be ignored in TensorFlow 2.0.\n"
     ]
    },
    {
     "name": "stdout",
     "output_type": "stream",
     "text": [
      "WARNING:tensorflow:`period` argument is deprecated. Please use `save_freq` to specify the frequency in number of batches seen.\n"
     ]
    },
    {
     "name": "stderr",
     "output_type": "stream",
     "text": [
      "WARNING:tensorflow:`period` argument is deprecated. Please use `save_freq` to specify the frequency in number of batches seen.\n"
     ]
    },
    {
     "name": "stdout",
     "output_type": "stream",
     "text": [
      "Epoch 1/50\n",
      "117/117 [==============================] - 23s 150ms/step - loss: 1.3679 - acc: 0.3214 - val_loss: 1.3539 - val_acc: 0.3503\n",
      "Epoch 2/50\n",
      "117/117 [==============================] - 19s 159ms/step - loss: 1.3121 - acc: 0.3795 - val_loss: 1.2763 - val_acc: 0.4099\n",
      "Epoch 3/50\n",
      "117/117 [==============================] - 18s 158ms/step - loss: 1.2620 - acc: 0.4156 - val_loss: 1.2511 - val_acc: 0.4246\n",
      "Epoch 4/50\n",
      "117/117 [==============================] - 18s 156ms/step - loss: 1.2409 - acc: 0.4328 - val_loss: 1.2356 - val_acc: 0.4319\n",
      "Epoch 5/50\n",
      "117/117 [==============================] - 18s 154ms/step - loss: 1.2279 - acc: 0.4424 - val_loss: 1.2261 - val_acc: 0.4438\n",
      "Epoch 6/50\n",
      "117/117 [==============================] - 18s 156ms/step - loss: 1.2188 - acc: 0.4489 - val_loss: 1.2221 - val_acc: 0.4466\n",
      "Epoch 7/50\n",
      "117/117 [==============================] - 18s 157ms/step - loss: 1.2116 - acc: 0.4510 - val_loss: 1.2176 - val_acc: 0.4567\n",
      "Epoch 8/50\n",
      "117/117 [==============================] - 18s 157ms/step - loss: 1.2065 - acc: 0.4530 - val_loss: 1.2131 - val_acc: 0.4524\n",
      "Epoch 9/50\n",
      "117/117 [==============================] - 19s 159ms/step - loss: 1.2029 - acc: 0.4549 - val_loss: 1.2107 - val_acc: 0.4560\n",
      "Epoch 10/50\n",
      "117/117 [==============================] - 18s 158ms/step - loss: 1.1996 - acc: 0.4625 - val_loss: 1.2075 - val_acc: 0.4554\n",
      "Epoch 11/50\n",
      "117/117 [==============================] - 19s 159ms/step - loss: 1.1976 - acc: 0.4602 - val_loss: 1.2096 - val_acc: 0.4606\n",
      "Epoch 12/50\n",
      "117/117 [==============================] - 19s 161ms/step - loss: 1.1943 - acc: 0.4663 - val_loss: 1.2085 - val_acc: 0.4582\n",
      "Epoch 13/50\n",
      "117/117 [==============================] - 19s 160ms/step - loss: 1.1933 - acc: 0.4639 - val_loss: 1.2046 - val_acc: 0.4633\n",
      "Epoch 14/50\n",
      "117/117 [==============================] - 19s 161ms/step - loss: 1.1891 - acc: 0.4659 - val_loss: 1.2035 - val_acc: 0.4572\n",
      "Epoch 15/50\n",
      "117/117 [==============================] - 19s 161ms/step - loss: 1.1881 - acc: 0.4685 - val_loss: 1.2023 - val_acc: 0.4607\n",
      "Epoch 16/50\n",
      "117/117 [==============================] - 19s 163ms/step - loss: 1.1862 - acc: 0.4703 - val_loss: 1.2020 - val_acc: 0.4621\n",
      "Epoch 17/50\n",
      "117/117 [==============================] - 19s 164ms/step - loss: 1.1868 - acc: 0.4684 - val_loss: 1.2013 - val_acc: 0.4610\n",
      "Epoch 18/50\n",
      "117/117 [==============================] - 19s 164ms/step - loss: 1.1837 - acc: 0.4672 - val_loss: 1.2008 - val_acc: 0.4628\n",
      "Epoch 19/50\n",
      "117/117 [==============================] - 19s 164ms/step - loss: 1.1842 - acc: 0.4747 - val_loss: 1.2016 - val_acc: 0.4575\n",
      "Epoch 20/50\n",
      "117/117 [==============================] - 19s 166ms/step - loss: 1.1824 - acc: 0.4702 - val_loss: 1.1992 - val_acc: 0.4629\n",
      "Epoch 21/50\n",
      "117/117 [==============================] - 19s 166ms/step - loss: 1.1797 - acc: 0.4726 - val_loss: 1.1970 - val_acc: 0.4648\n",
      "Epoch 22/50\n",
      "117/117 [==============================] - 20s 168ms/step - loss: 1.1791 - acc: 0.4777 - val_loss: 1.2005 - val_acc: 0.4641\n",
      "Epoch 23/50\n",
      "117/117 [==============================] - 20s 170ms/step - loss: 1.1762 - acc: 0.4777 - val_loss: 1.1979 - val_acc: 0.4636\n",
      "Epoch 24/50\n",
      "117/117 [==============================] - 21s 179ms/step - loss: 1.1756 - acc: 0.4757 - val_loss: 1.1982 - val_acc: 0.4643\n",
      "Epoch 25/50\n",
      "117/117 [==============================] - 20s 174ms/step - loss: 1.1755 - acc: 0.4763 - val_loss: 1.1992 - val_acc: 0.4644\n",
      "Epoch 26/50\n",
      "117/117 [==============================] - 21s 176ms/step - loss: 1.1749 - acc: 0.4765 - val_loss: 1.1978 - val_acc: 0.4622\n",
      "Epoch 27/50\n",
      "117/117 [==============================] - 21s 179ms/step - loss: 1.1740 - acc: 0.4763 - val_loss: 1.1987 - val_acc: 0.4587\n",
      "Epoch 28/50\n",
      "117/117 [==============================] - 20s 171ms/step - loss: 1.1736 - acc: 0.4775 - val_loss: 1.1962 - val_acc: 0.4634\n",
      "Epoch 29/50\n",
      "117/117 [==============================] - 20s 170ms/step - loss: 1.1727 - acc: 0.4771 - val_loss: 1.1968 - val_acc: 0.4642\n",
      "Epoch 30/50\n",
      "117/117 [==============================] - 20s 173ms/step - loss: 1.1717 - acc: 0.4791 - val_loss: 1.1951 - val_acc: 0.4641\n",
      "Epoch 31/50\n",
      "117/117 [==============================] - 20s 169ms/step - loss: 1.1713 - acc: 0.4785 - val_loss: 1.1961 - val_acc: 0.4649\n",
      "Epoch 32/50\n",
      "117/117 [==============================] - 20s 171ms/step - loss: 1.1710 - acc: 0.4761 - val_loss: 1.1945 - val_acc: 0.4646\n",
      "Epoch 33/50\n",
      "117/117 [==============================] - 20s 169ms/step - loss: 1.1708 - acc: 0.4764 - val_loss: 1.1951 - val_acc: 0.4652\n",
      "Epoch 34/50\n",
      "117/117 [==============================] - 20s 172ms/step - loss: 1.1664 - acc: 0.4837 - val_loss: 1.1953 - val_acc: 0.4622\n",
      "Epoch 35/50\n",
      "117/117 [==============================] - 20s 169ms/step - loss: 1.1708 - acc: 0.4789 - val_loss: 1.1954 - val_acc: 0.4640\n",
      "Epoch 36/50\n",
      "117/117 [==============================] - 20s 171ms/step - loss: 1.1687 - acc: 0.4798 - val_loss: 1.1972 - val_acc: 0.4631\n",
      "Epoch 37/50\n",
      "117/117 [==============================] - 20s 169ms/step - loss: 1.1662 - acc: 0.4851 - val_loss: 1.1942 - val_acc: 0.4623\n",
      "Epoch 38/50\n",
      "117/117 [==============================] - 20s 169ms/step - loss: 1.1680 - acc: 0.4795 - val_loss: 1.1949 - val_acc: 0.4632\n",
      "Epoch 39/50\n",
      "117/117 [==============================] - 20s 170ms/step - loss: 1.1678 - acc: 0.4832 - val_loss: 1.1938 - val_acc: 0.4638\n",
      "Epoch 40/50\n",
      "117/117 [==============================] - 20s 173ms/step - loss: 1.1663 - acc: 0.4814 - val_loss: 1.1939 - val_acc: 0.4654\n",
      "Epoch 41/50\n",
      "117/117 [==============================] - 20s 169ms/step - loss: 1.1657 - acc: 0.4819 - val_loss: 1.1934 - val_acc: 0.4638\n",
      "Epoch 42/50\n",
      "117/117 [==============================] - 20s 172ms/step - loss: 1.1648 - acc: 0.4830 - val_loss: 1.1928 - val_acc: 0.4630\n",
      "Epoch 43/50\n",
      "117/117 [==============================] - 20s 170ms/step - loss: 1.1681 - acc: 0.4813 - val_loss: 1.1926 - val_acc: 0.4640\n",
      "Epoch 44/50\n",
      "117/117 [==============================] - 20s 172ms/step - loss: 1.1643 - acc: 0.4860 - val_loss: 1.1926 - val_acc: 0.4643\n",
      "Epoch 45/50\n",
      "117/117 [==============================] - 20s 170ms/step - loss: 1.1648 - acc: 0.4848 - val_loss: 1.1940 - val_acc: 0.4646\n",
      "Epoch 46/50\n",
      "117/117 [==============================] - 20s 172ms/step - loss: 1.1630 - acc: 0.4845 - val_loss: 1.1937 - val_acc: 0.4641\n",
      "Epoch 47/50\n",
      "117/117 [==============================] - 20s 170ms/step - loss: 1.1654 - acc: 0.4804 - val_loss: 1.1933 - val_acc: 0.4641\n",
      "Epoch 48/50\n",
      "117/117 [==============================] - 20s 171ms/step - loss: 1.1620 - acc: 0.4836 - val_loss: 1.1929 - val_acc: 0.4632\n",
      "Epoch 49/50\n",
      "117/117 [==============================] - 20s 173ms/step - loss: 1.1636 - acc: 0.4846 - val_loss: 1.1923 - val_acc: 0.4654\n",
      "Epoch 50/50\n",
      "117/117 [==============================] - 20s 173ms/step - loss: 1.1606 - acc: 0.4866 - val_loss: 1.1925 - val_acc: 0.4630\n"
     ]
    }
   ],
   "source": [
    "print(\"Training phase starting:\")\n",
    "\n",
    "tensorboard = callbacks.TensorBoard(log_dir='./logs', histogram_freq=0, write_graph=True)\n",
    "model_checkpoints = callbacks.ModelCheckpoint(\"checkpoints/checkpoint-{val_loss:.3f}.h5\", monitor='val_loss', verbose=0, save_best_only=True, save_weights_only=False, mode='auto')\n",
    "lr_schedule = callbacks.LearningRateScheduler(initial_boost)\n",
    "\n",
    "model_log = model.fit(X_train, y_train, validation_data=(X_test, y_test),\n",
    "          epochs=50, batch_size=200,\n",
    "          callbacks=[tensorboard, model_checkpoints])"
   ]
  },
  {
   "cell_type": "code",
   "execution_count": 113,
   "metadata": {},
   "outputs": [],
   "source": [
    "pd.DataFrame(model_log.history).to_csv(\"balance_history.csv\")"
   ]
  },
  {
   "cell_type": "markdown",
   "metadata": {},
   "source": [
    "## Prediction phase: let us test the model on the same tweets dataset"
   ]
  },
  {
   "cell_type": "code",
   "execution_count": 114,
   "metadata": {},
   "outputs": [],
   "source": [
    "from keras.models import load_model\n",
    "from sklearn.metrics import classification_report, confusion_matrix\n",
    "import matplotlib.pyplot as plt\n",
    "import numpy as np\n",
    "import itertools, pickle\n",
    "\n",
    "with open('tokenizer.pickle', 'rb') as handle:\n",
    "    tokenizer = pickle.load(handle)\n",
    "\n",
    "classes = [\"serious\", \"happy\", \"fun\", \"caring\"]\n"
   ]
  },
  {
   "cell_type": "code",
   "execution_count": 115,
   "metadata": {},
   "outputs": [],
   "source": [
    "Y_test = np.argmax(y_test, axis=1) # Convert one-hot to index\n",
    "y_pred = model.predict(X_test)\n",
    "y_pred_class = np.argmax(y_pred,axis=1)\n",
    "cnf_matrix = confusion_matrix(Y_test, y_pred_class)"
   ]
  },
  {
   "cell_type": "code",
   "execution_count": 116,
   "metadata": {},
   "outputs": [
    {
     "name": "stdout",
     "output_type": "stream",
     "text": [
      "              precision    recall  f1-score   support\n",
      "\n",
      "     serious       0.46      0.53      0.50      2905\n",
      "       happy       0.40      0.27      0.32      1765\n",
      "         fun       0.45      0.44      0.44      2777\n",
      "      caring       0.50      0.55      0.52      2574\n",
      "\n",
      "    accuracy                           0.46     10021\n",
      "   macro avg       0.45      0.45      0.45     10021\n",
      "weighted avg       0.46      0.46      0.46     10021\n",
      "\n"
     ]
    }
   ],
   "source": [
    "print(classification_report(Y_test, y_pred_class, target_names=classes))"
   ]
  },
  {
   "cell_type": "code",
   "execution_count": 117,
   "metadata": {},
   "outputs": [
    {
     "data": {
      "image/png": "[encoded data removed]",
      "text/plain": [
       "<Figure size 1440x720 with 2 Axes>"
      ]
     },
     "metadata": {
      "needs_background": "light"
     },
     "output_type": "display_data"
    }
   ],
   "source": [
    "#code obtained from https://mikesmales.medium.com/sound-classification-using-deep-learning-8bc2aa1990b7\n",
    "def plot_confusion_matrix(cm, labels,\n",
    "                          normalize=True,\n",
    "                          title='Confusion Matrix (Validation Set)',\n",
    "                          cmap=plt.cm.Blues):\n",
    "    \"\"\"\n",
    "    This function prints and plots the confusion matrix.\n",
    "    Normalization can be applied by setting `normalize=True`.\n",
    "    \"\"\"\n",
    "    if normalize:\n",
    "        cm = cm.astype('float') / cm.sum(axis=1)[:, np.newaxis]\n",
    "        #print(\"Normalized confusion matrix\")\n",
    "    else:\n",
    "        #print('Confusion matrix, without normalization')\n",
    "        pass\n",
    "\n",
    "    #print(cm)\n",
    "\n",
    "    plt.imshow(cm, interpolation='nearest', cmap=cmap)\n",
    "    plt.title(title)\n",
    "    plt.colorbar()\n",
    "    tick_marks = np.arange(len(labels))\n",
    "    plt.xticks(tick_marks, labels, rotation=45)\n",
    "    plt.yticks(tick_marks, labels)\n",
    "\n",
    "    fmt = '.2f' if normalize else 'd'\n",
    "    thresh = cm.max() / 2.\n",
    "    for i, j in itertools.product(range(cm.shape[0]), range(cm.shape[1])):\n",
    "        plt.text(j, i, format(cm[i, j], fmt),\n",
    "                 horizontalalignment=\"center\",\n",
    "                 color=\"white\" if cm[i, j] > thresh else \"black\")\n",
    "\n",
    "    plt.tight_layout()\n",
    "    plt.ylabel('True label')\n",
    "    plt.xlabel('Predicted label')\n",
    "\n",
    "plt.figure(figsize=(20,10))\n",
    "plot_confusion_matrix(cnf_matrix, labels=classes, cmap= plt.cm.coolwarm)\n",
    "\n",
    "# precision = true_pos / (true_pos + false_pos)\n",
    "# recall = true_pos / (true_pos + false_neg)"
   ]
  },
  {
   "cell_type": "code",
   "execution_count": null,
   "metadata": {},
   "outputs": [],
   "source": []
  },
  {
   "cell_type": "code",
   "execution_count": 118,
   "metadata": {},
   "outputs": [],
   "source": [
    "model.save('sentiment_classifier_final.h5')"
   ]
  },
  {
   "cell_type": "code",
   "execution_count": 119,
   "metadata": {},
   "outputs": [],
   "source": [
    "model_final = load_model('sentiment_classifier_final.h5')"
   ]
  },
  {
   "cell_type": "code",
   "execution_count": null,
   "metadata": {},
   "outputs": [],
   "source": []
  }
 ],
 "metadata": {
  "kernelspec": {
   "display_name": "Python 3",
   "language": "python",
   "name": "python3"
  },
  "language_info": {
   "codemirror_mode": {
    "name": "ipython",
    "version": 3
   },
   "file_extension": ".py",
   "mimetype": "text/x-python",
   "name": "python",
   "nbconvert_exporter": "python",
   "pygments_lexer": "ipython3",
   "version": "3.8.5"
  }
 },
 "nbformat": 4,
 "nbformat_minor": 4
}
