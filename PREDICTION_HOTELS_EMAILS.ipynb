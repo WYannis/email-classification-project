{
 "cells": [
  {
   "cell_type": "markdown",
   "metadata": {},
   "source": [
    "# This notebook applies both classifiers on the e-mails data to categorize them and assess the performance (customer engagement) of each category"
   ]
  },
  {
   "cell_type": "markdown",
   "metadata": {},
   "source": [
    "## Libraries importations"
   ]
  },
  {
   "cell_type": "code",
   "execution_count": 60,
   "metadata": {},
   "outputs": [],
   "source": [
    "import matplotlib.pyplot as plt\n",
    "import numpy as np\n",
    "import pandas as pd\n",
    "import pickle as pk\n",
    "import seaborn as sns\n",
    "\n",
    "from keras.models import load_model\n",
    "from keras.preprocessing.sequence import pad_sequences\n",
    "from keras.utils.np_utils import to_categorical\n",
    "\n",
    "from nltk.tokenize import word_tokenize\n",
    "from nltk import ne_chunk, pos_tag, ngrams, tokenize\n",
    "sns.set_style('whitegrid')"
   ]
  },
  {
   "cell_type": "markdown",
   "metadata": {},
   "source": [
    "## Importation of the classifiers and the dataset"
   ]
  },
  {
   "cell_type": "code",
   "execution_count": 3,
   "metadata": {},
   "outputs": [],
   "source": [
    "## Load both classifiers\n",
    "formality_classifier = pk.load(open('formality_classifier/model/linguistic_stats_NB.pk', 'rb'))\n",
    "sentiment_classifier = load_model('sentiment_classifier/sentiment_classifier_final.h5')\n",
    "\n",
    "## Load any other elements needed to apply the classifiers\n",
    "tokenizer = pk.load(open('sentiment_classifier/tokenizer.pkl','rb'))"
   ]
  },
  {
   "cell_type": "code",
   "execution_count": 77,
   "metadata": {},
   "outputs": [],
   "source": [
    "## Load the emails dataset\n",
    "df_emails = pk.load(open('data/df_emails.pk','rb'))"
   ]
  },
  {
   "cell_type": "code",
   "execution_count": 5,
   "metadata": {},
   "outputs": [
    {
     "name": "stdout",
     "output_type": "stream",
     "text": [
      "<class 'pandas.core.frame.DataFrame'>\n",
      "RangeIndex: 83 entries, 0 to 82\n",
      "Data columns (total 7 columns):\n",
      " #   Column                    Non-Null Count  Dtype \n",
      "---  ------                    --------------  ----- \n",
      " 0   campaign title            83 non-null     object\n",
      " 1   hotel                     83 non-null     object\n",
      " 2   total number of delivers  83 non-null     int64 \n",
      " 3   unique opens              83 non-null     int64 \n",
      " 4   unique clicks             83 non-null     int64 \n",
      " 5   html__url                 83 non-null     object\n",
      " 6   text_content              83 non-null     object\n",
      "dtypes: int64(3), object(4)\n",
      "memory usage: 4.7+ KB\n"
     ]
    }
   ],
   "source": [
    "df_emails.info()"
   ]
  },
  {
   "cell_type": "code",
   "execution_count": 15,
   "metadata": {},
   "outputs": [
    {
     "data": {
      "text/html": [
       "<div>\n",
       "<style scoped>\n",
       "    .dataframe tbody tr th:only-of-type {\n",
       "        vertical-align: middle;\n",
       "    }\n",
       "\n",
       "    .dataframe tbody tr th {\n",
       "        vertical-align: top;\n",
       "    }\n",
       "\n",
       "    .dataframe thead th {\n",
       "        text-align: right;\n",
       "    }\n",
       "</style>\n",
       "<table border=\"1\" class=\"dataframe\">\n",
       "  <thead>\n",
       "    <tr style=\"text-align: right;\">\n",
       "      <th></th>\n",
       "      <th>campaign title</th>\n",
       "      <th>hotel</th>\n",
       "      <th>total number of delivers</th>\n",
       "      <th>unique opens</th>\n",
       "      <th>unique clicks</th>\n",
       "      <th>html__url</th>\n",
       "      <th>text_content</th>\n",
       "    </tr>\n",
       "  </thead>\n",
       "  <tbody>\n",
       "    <tr>\n",
       "      <th>3</th>\n",
       "      <td>Apex - London - Mix of offers - Promo - Generi...</td>\n",
       "      <td>Apex</td>\n",
       "      <td>2208</td>\n",
       "      <td>710</td>\n",
       "      <td>12</td>\n",
       "      <td>https://newsapexhotels.co.uk/t/17UA-5QCB3-C885...</td>\n",
       "      <td>[Burgers, beers, bubbles and balls 🍔 🍻 ⚽ Engla...</td>\n",
       "    </tr>\n",
       "  </tbody>\n",
       "</table>\n",
       "</div>"
      ],
      "text/plain": [
       "                                      campaign title hotel  \\\n",
       "3  Apex - London - Mix of offers - Promo - Generi...  Apex   \n",
       "\n",
       "   total number of delivers  unique opens  unique clicks  \\\n",
       "3                      2208           710             12   \n",
       "\n",
       "                                           html__url  \\\n",
       "3  https://newsapexhotels.co.uk/t/17UA-5QCB3-C885...   \n",
       "\n",
       "                                        text_content  \n",
       "3  [Burgers, beers, bubbles and balls 🍔 🍻 ⚽ Engla...  "
      ]
     },
     "execution_count": 15,
     "metadata": {},
     "output_type": "execute_result"
    }
   ],
   "source": [
    "df_emails.iloc[3:4]"
   ]
  },
  {
   "cell_type": "markdown",
   "metadata": {},
   "source": [
    "## Preparation of the e-mails data to be able to apply both models"
   ]
  },
  {
   "cell_type": "code",
   "execution_count": 6,
   "metadata": {},
   "outputs": [],
   "source": [
    "## Preparation for the formality classifier\n",
    "\n",
    "# we need to compute the linguistic features of each e-mail sentence before applying the formality classifier\n",
    "\n",
    "# import the part of the formality classifier script we need\n",
    "##Intermediary functions\n",
    "\n",
    "def get_case(string):\n",
    "    \"\"\"\n",
    "    return a number list containing: the number of entirely-capitalized words; binary indicator for whether sentence\n",
    "    is lowercase; binary indicator for whether the first word is capitalized.\n",
    "    \"\"\"\n",
    "    return [len([w for w in word_tokenize(string) if w.isupper()]), int(string.islower()), int(string[0].isupper())]\n",
    "\n",
    "def get_lexical(string):\n",
    "    \"\"\"\n",
    "    return the number of contractions in the sentence, normalized by length; average word length; average word\n",
    "    log-frequency according to Google Ngram corpus; average formality score as computed by Pavlick and\n",
    "    Nenkova (2015).\n",
    "    \"\"\"\n",
    "    # prepare\n",
    "    output = []\n",
    "    tokens = word_tokenize(string.lower())\n",
    "    length = len(tokens)\n",
    "\n",
    "    # 1. number of contractions, norm by length\n",
    "    cont_count = 0\n",
    "    for w in tokens:\n",
    "        if \"\\'\" in w and len(w) > 1:\n",
    "            cont_count += 1\n",
    "    output.append(round(cont_count/length, 2))\n",
    "\n",
    "    # 2. average word length\n",
    "    output.append(round(sum([len(w) for w in tokens])/length, 2))\n",
    "    \n",
    "    return output\n",
    "    \n",
    "def get_punctuation_number(string):\n",
    "    \"\"\"\n",
    "    punctuation Number of ‘?’, ‘...’, and ‘!’ in the sentence.\n",
    "    \"\"\"\n",
    "    punct_number = 0\n",
    "    tokens = word_tokenize(string)\n",
    "\n",
    "    for w in tokens:\n",
    "        if w in [\"?\", \"...\", \"!\", \";\"]:\n",
    "            punct_number += 1\n",
    "    return [punct_number]\n",
    "\n",
    "\n",
    "## Final function gathering all those stats and computing them on a sentence level\n",
    "\n",
    "def get_linguistic_features_sentence(string):\n",
    "    # get the easier-to-compute features\n",
    "    output = []\n",
    "    # 3 nums\n",
    "    output.extend(get_case(string))\n",
    "    # 2 nums\n",
    "    output.extend(get_lexical(string))\n",
    "    # 1 num\n",
    "    output.extend(get_punctuation_number(string))\n",
    "\n",
    "    # total of 6 nums per input sentence\n",
    "    return output\n",
    "\n",
    "##FINAL FUNCTION that gets applied on an e-mail level (list of sentences)\n",
    "\n",
    "def get_linguistic_features_all(sent_list):\n",
    "    \"\"\"\n",
    "    return an array of an array of features for the total sentence list\n",
    "    \"\"\"\n",
    "    # get list of raw number stats for each sentence\n",
    "    num_lists = []\n",
    "    for s in sent_list:\n",
    "        num_lists.append(get_linguistic_features_sentence(s))\n",
    "    # list into vec array\n",
    "    output = np.array(num_lists)\n",
    "    return output"
   ]
  },
  {
   "cell_type": "code",
   "execution_count": 7,
   "metadata": {},
   "outputs": [],
   "source": [
    "## Preparation for the sentiment classifier\n",
    "\n",
    "# process the email sentence list \n",
    "def preprocess_sentiment(sentence_list):\n",
    "    sequences = tokenizer.texts_to_sequences(sentence_list)\n",
    "    word_index = tokenizer.word_index\n",
    "    data_int = pad_sequences(sequences, padding='pre', maxlen=(25))\n",
    "    data = pad_sequences(data_int, padding='post', maxlen=(30))\n",
    "    return data\n"
   ]
  },
  {
   "cell_type": "markdown",
   "metadata": {},
   "source": [
    "## Applications onto the e-mails dataset"
   ]
  },
  {
   "cell_type": "markdown",
   "metadata": {},
   "source": [
    " Some functions are still needed to compute the weighted average of the predictions for each e-mail ( e-mail = weighted sum of sentences)"
   ]
  },
  {
   "cell_type": "code",
   "execution_count": 8,
   "metadata": {},
   "outputs": [],
   "source": [
    "# formality weighted average\n",
    "def formality_score_email(email_sent_list, classifier):\n",
    "    results = []\n",
    "    title = email_sent_list[0]\n",
    "    features = get_linguistic_features_all(email_sent_list)\n",
    "    proba_arrays = classifier.predict_proba(features) ##the array of the prediction probabilities for every sentence\n",
    "    results.append((title, proba_arrays.mean(axis=0)[1]))\n",
    "    return results"
   ]
  },
  {
   "cell_type": "code",
   "execution_count": 16,
   "metadata": {},
   "outputs": [
    {
     "name": "stdout",
     "output_type": "stream",
     "text": [
      "The formality score of e-mail 'Burgers, beers, bubbles and balls 🍔 🍻 ⚽ England VS Columbia tonight at our top spots Forward this email to a friend View in browser SUN'S OUT, BUNS AND BALLS OUT ☀ ️ 🍔 ⚽ It’s official.' is 0.34\n"
     ]
    }
   ],
   "source": [
    "# test of the formality classifier\n",
    "test = df_emails['text_content'][3]\n",
    "res = formality_score_email(test, formality_classifier)\n",
    "print(f\"The formality score of e-mail '{res[0][0]}' is {round(res[0][1],2)}\")"
   ]
  },
  {
   "cell_type": "code",
   "execution_count": 94,
   "metadata": {},
   "outputs": [],
   "source": [
    "# sentiment analysis classifier weighted average\n",
    "def sentiment_label_email(email_sent_list, classifier):\n",
    "    classes = ['Serious', 'Happy', 'Fun', 'Caring']\n",
    "    res = {i: 0 for i in range(len(classes))}\n",
    "    \n",
    "    X_test = preprocess_sentiment(email_sent_list)\n",
    "    y_pred = classifier.predict(X_test)   #the predictions are one-hot encoded vectors\n",
    "    y_pred_label = np.argmax(y_pred, axis=1)\n",
    "    \n",
    "    for i in range(len(email_sent_list)):\n",
    "        if y_pred_label[i] != 0:\n",
    "            res[y_pred_label[i]] += 1\n",
    "        else:\n",
    "            res[y_pred_label[i]] += 0.4\n",
    "    L = list(res.values())\n",
    "    most_prob_label =L.index(max(L))\n",
    "    \n",
    "    return res, classes[most_prob_label]"
   ]
  },
  {
   "cell_type": "code",
   "execution_count": 95,
   "metadata": {},
   "outputs": [
    {
     "name": "stdout",
     "output_type": "stream",
     "text": [
      "The sentiment analysis gives out the following proba of '{0: 3.9999999999999996, 1: 4, 2: 2, 3: 3}' , so the label is Happy\n"
     ]
    }
   ],
   "source": [
    "# test of the sentiment classifier\n",
    "test = df_emails['text_content'][3]\n",
    "res = sentiment_label_email(test, sentiment_classifier)\n",
    "print(f\"The sentiment analysis gives out the following proba of '{res[0]}' , so the label is {res[1]}\")"
   ]
  },
  {
   "cell_type": "markdown",
   "metadata": {},
   "source": [
    "### Additional tests to observe if the sentiment classification is relevant on e-mails"
   ]
  },
  {
   "cell_type": "code",
   "execution_count": 96,
   "metadata": {},
   "outputs": [
    {
     "name": "stdout",
     "output_type": "stream",
     "text": [
      "The sentiment analysis gives out the following proba of '{0: 3.1999999999999997, 1: 2, 2: 4, 3: 2}' , so the label is Fun\n",
      "The sentiment analysis gives out the following proba of '{0: 3.9999999999999996, 1: 7, 2: 2, 3: 6}' , so the label is Happy\n",
      "The sentiment analysis gives out the following proba of '{0: 5.6000000000000005, 1: 2, 2: 4, 3: 4}' , so the label is Serious\n",
      "The sentiment analysis gives out the following proba of '{0: 5.6000000000000005, 1: 2, 2: 4, 3: 4}' , so the label is Serious\n",
      "The sentiment analysis gives out the following proba of '{0: 2.8, 1: 2, 2: 4, 3: 2}' , so the label is Fun\n",
      "The sentiment analysis gives out the following proba of '{0: 3.9999999999999996, 1: 6, 2: 2, 3: 6}' , so the label is Happy\n",
      "The sentiment analysis gives out the following proba of '{0: 5.6000000000000005, 1: 4, 2: 3, 3: 6}' , so the label is Caring\n",
      "The sentiment analysis gives out the following proba of '{0: 4.8, 1: 2, 2: 4, 3: 6}' , so the label is Caring\n",
      "The sentiment analysis gives out the following proba of '{0: 4.3999999999999995, 1: 2, 2: 5, 3: 5}' , so the label is Fun\n",
      "The sentiment analysis gives out the following proba of '{0: 3.9999999999999996, 1: 1, 2: 4, 3: 2}' , so the label is Fun\n",
      "The sentiment analysis gives out the following proba of '{0: 3.5999999999999996, 1: 5, 2: 2, 3: 4}' , so the label is Happy\n",
      "The sentiment analysis gives out the following proba of '{0: 3.5999999999999996, 1: 3, 2: 5, 3: 6}' , so the label is Caring\n",
      "The sentiment analysis gives out the following proba of '{0: 4.3999999999999995, 1: 2, 2: 5, 3: 5}' , so the label is Fun\n",
      "The sentiment analysis gives out the following proba of '{0: 6.000000000000001, 1: 1, 2: 5, 3: 4}' , so the label is Serious\n",
      "The sentiment analysis gives out the following proba of '{0: 3.9999999999999996, 1: 2, 2: 5, 3: 5}' , so the label is Fun\n",
      "The sentiment analysis gives out the following proba of '{0: 3.1999999999999997, 1: 2, 2: 4, 3: 2}' , so the label is Fun\n",
      "The sentiment analysis gives out the following proba of '{0: 4.8, 1: 6, 2: 2, 3: 5}' , so the label is Happy\n",
      "The sentiment analysis gives out the following proba of '{0: 3.1999999999999997, 1: 2, 2: 4, 3: 2}' , so the label is Fun\n",
      "The sentiment analysis gives out the following proba of '{0: 4.3999999999999995, 1: 6, 2: 2, 3: 6}' , so the label is Happy\n",
      "The sentiment analysis gives out the following proba of '{0: 3.1999999999999997, 1: 2, 2: 4, 3: 2}' , so the label is Fun\n"
     ]
    }
   ],
   "source": [
    "def chained_tests(n):\n",
    "    for i in range(0,n):\n",
    "        test = df_emails[df_emails['hotel']=='Crieff Hydro'].reset_index()\n",
    "        test = test['text_content'][i]\n",
    "        res = sentiment_label_email(test, sentiment_classifier)\n",
    "        print(f\"The sentiment analysis gives out the following proba of '{res[0]}' , so the label is {res[1]}\")\n",
    "    return \n",
    "\n",
    "chained_tests(20)"
   ]
  },
  {
   "cell_type": "markdown",
   "metadata": {},
   "source": [
    "### Adding columns of formality score and sentiment label in the dataset"
   ]
  },
  {
   "cell_type": "code",
   "execution_count": 97,
   "metadata": {},
   "outputs": [],
   "source": [
    "df_emails['formality_score'] = df_emails['text_content'].apply(lambda x: formality_score_email(x, formality_classifier)[0][1])\n",
    "df_emails['sentiment_label'] = df_emails['text_content'].apply(lambda x: sentiment_label_email(x, sentiment_classifier)[1])"
   ]
  },
  {
   "cell_type": "code",
   "execution_count": 98,
   "metadata": {},
   "outputs": [
    {
     "data": {
      "text/plain": [
       "Serious    29\n",
       "Happy      21\n",
       "Fun        19\n",
       "Caring     14\n",
       "Name: sentiment_label, dtype: int64"
      ]
     },
     "execution_count": 98,
     "metadata": {},
     "output_type": "execute_result"
    }
   ],
   "source": [
    "df_emails['sentiment_label'].value_counts()"
   ]
  },
  {
   "cell_type": "code",
   "execution_count": 99,
   "metadata": {},
   "outputs": [
    {
     "data": {
      "text/plain": [
       "count    83.000000\n",
       "mean      0.338156\n",
       "std       0.060051\n",
       "min       0.234455\n",
       "25%       0.300136\n",
       "50%       0.335490\n",
       "75%       0.354296\n",
       "max       0.522179\n",
       "Name: formality_score, dtype: float64"
      ]
     },
     "execution_count": 99,
     "metadata": {},
     "output_type": "execute_result"
    }
   ],
   "source": [
    "df_emails['formality_score'].describe()"
   ]
  },
  {
   "cell_type": "markdown",
   "metadata": {},
   "source": [
    "## Plotting of the relation between customer engagement and formality + sentiment "
   ]
  },
  {
   "cell_type": "markdown",
   "metadata": {},
   "source": [
    "We decide to look at each hotel individually, since there's no point in seeing how different emails perform if they come from other hotels. Indeed, there are too many other variables changing (different clients, different staff, different standards of room, different locations) to argue that the engagement change is simply due to formality or sentiment."
   ]
  },
  {
   "cell_type": "code",
   "execution_count": 100,
   "metadata": {},
   "outputs": [],
   "source": [
    "## add some normalized metric to be able to compare customer engagement from one email to another\n",
    "df_emails['open_rate'] = (df_emails['unique opens']/df_emails['total number of delivers'])*100\n",
    "df_emails['click_to_open_rate'] = (df_emails['unique clicks']/df_emails['unique opens'])*100"
   ]
  },
  {
   "cell_type": "code",
   "execution_count": 101,
   "metadata": {},
   "outputs": [
    {
     "data": {
      "text/html": [
       "<div>\n",
       "<style scoped>\n",
       "    .dataframe tbody tr th:only-of-type {\n",
       "        vertical-align: middle;\n",
       "    }\n",
       "\n",
       "    .dataframe tbody tr th {\n",
       "        vertical-align: top;\n",
       "    }\n",
       "\n",
       "    .dataframe thead th {\n",
       "        text-align: right;\n",
       "    }\n",
       "</style>\n",
       "<table border=\"1\" class=\"dataframe\">\n",
       "  <thead>\n",
       "    <tr style=\"text-align: right;\">\n",
       "      <th></th>\n",
       "      <th>campaign title</th>\n",
       "      <th>hotel</th>\n",
       "      <th>total number of delivers</th>\n",
       "      <th>unique opens</th>\n",
       "      <th>unique clicks</th>\n",
       "      <th>html__url</th>\n",
       "      <th>text_content</th>\n",
       "      <th>formality_score</th>\n",
       "      <th>sentiment_label</th>\n",
       "      <th>open_rate</th>\n",
       "      <th>click_to_open_rate</th>\n",
       "    </tr>\n",
       "  </thead>\n",
       "  <tbody>\n",
       "    <tr>\n",
       "      <th>0</th>\n",
       "      <td>Waterloo Place_autumn promo email_opred in to ...</td>\n",
       "      <td>Apex</td>\n",
       "      <td>1884</td>\n",
       "      <td>812</td>\n",
       "      <td>105</td>\n",
       "      <td>https://newsapexhotels.co.uk/t/17UA-5U6OI-C885...</td>\n",
       "      <td>[Play hard, nap hard | This Autumn at Waterloo...</td>\n",
       "      <td>0.327504</td>\n",
       "      <td>Serious</td>\n",
       "      <td>43.099788</td>\n",
       "      <td>12.931034</td>\n",
       "    </tr>\n",
       "    <tr>\n",
       "      <th>1</th>\n",
       "      <td>Waterloo Place_autumn promo email_27Aug18</td>\n",
       "      <td>Apex</td>\n",
       "      <td>8264</td>\n",
       "      <td>3757</td>\n",
       "      <td>507</td>\n",
       "      <td>https://newsapexhotels.co.uk/t/17UA-5TUDG-C885...</td>\n",
       "      <td>[Play hard, nap hard | This Autumn at Waterloo...</td>\n",
       "      <td>0.327504</td>\n",
       "      <td>Serious</td>\n",
       "      <td>45.462246</td>\n",
       "      <td>13.494810</td>\n",
       "    </tr>\n",
       "    <tr>\n",
       "      <th>2</th>\n",
       "      <td>Apex - Dundee - Mix of offers - Promo -VADUNDE...</td>\n",
       "      <td>Apex</td>\n",
       "      <td>2988</td>\n",
       "      <td>1505</td>\n",
       "      <td>56</td>\n",
       "      <td>https://newsapexhotels.co.uk/t/17UA-5SNCI-C885...</td>\n",
       "      <td>[My V&amp;A Dundee - the latest entry READ ON TO F...</td>\n",
       "      <td>0.398476</td>\n",
       "      <td>Serious</td>\n",
       "      <td>50.368139</td>\n",
       "      <td>3.720930</td>\n",
       "    </tr>\n",
       "    <tr>\n",
       "      <th>3</th>\n",
       "      <td>Apex - London - Mix of offers - Promo - Generi...</td>\n",
       "      <td>Apex</td>\n",
       "      <td>2208</td>\n",
       "      <td>710</td>\n",
       "      <td>12</td>\n",
       "      <td>https://newsapexhotels.co.uk/t/17UA-5QCB3-C885...</td>\n",
       "      <td>[Burgers, beers, bubbles and balls 🍔 🍻 ⚽ Engla...</td>\n",
       "      <td>0.342089</td>\n",
       "      <td>Happy</td>\n",
       "      <td>32.155797</td>\n",
       "      <td>1.690141</td>\n",
       "    </tr>\n",
       "    <tr>\n",
       "      <th>4</th>\n",
       "      <td>Apex - Group - Gift Vouchers - Promo - Any Col...</td>\n",
       "      <td>Apex</td>\n",
       "      <td>34174</td>\n",
       "      <td>4825</td>\n",
       "      <td>289</td>\n",
       "      <td>https://newsapexhotels.co.uk/t/17UA-5ICIV-C885...</td>\n",
       "      <td>[👩 15% off Mother's Day vouchers SPA VOUCHERS,...</td>\n",
       "      <td>0.415050</td>\n",
       "      <td>Serious</td>\n",
       "      <td>14.118921</td>\n",
       "      <td>5.989637</td>\n",
       "    </tr>\n",
       "  </tbody>\n",
       "</table>\n",
       "</div>"
      ],
      "text/plain": [
       "                                      campaign title hotel  \\\n",
       "0  Waterloo Place_autumn promo email_opred in to ...  Apex   \n",
       "1          Waterloo Place_autumn promo email_27Aug18  Apex   \n",
       "2  Apex - Dundee - Mix of offers - Promo -VADUNDE...  Apex   \n",
       "3  Apex - London - Mix of offers - Promo - Generi...  Apex   \n",
       "4  Apex - Group - Gift Vouchers - Promo - Any Col...  Apex   \n",
       "\n",
       "   total number of delivers  unique opens  unique clicks  \\\n",
       "0                      1884           812            105   \n",
       "1                      8264          3757            507   \n",
       "2                      2988          1505             56   \n",
       "3                      2208           710             12   \n",
       "4                     34174          4825            289   \n",
       "\n",
       "                                           html__url  \\\n",
       "0  https://newsapexhotels.co.uk/t/17UA-5U6OI-C885...   \n",
       "1  https://newsapexhotels.co.uk/t/17UA-5TUDG-C885...   \n",
       "2  https://newsapexhotels.co.uk/t/17UA-5SNCI-C885...   \n",
       "3  https://newsapexhotels.co.uk/t/17UA-5QCB3-C885...   \n",
       "4  https://newsapexhotels.co.uk/t/17UA-5ICIV-C885...   \n",
       "\n",
       "                                        text_content  formality_score  \\\n",
       "0  [Play hard, nap hard | This Autumn at Waterloo...         0.327504   \n",
       "1  [Play hard, nap hard | This Autumn at Waterloo...         0.327504   \n",
       "2  [My V&A Dundee - the latest entry READ ON TO F...         0.398476   \n",
       "3  [Burgers, beers, bubbles and balls 🍔 🍻 ⚽ Engla...         0.342089   \n",
       "4  [👩 15% off Mother's Day vouchers SPA VOUCHERS,...         0.415050   \n",
       "\n",
       "  sentiment_label  open_rate  click_to_open_rate  \n",
       "0         Serious  43.099788           12.931034  \n",
       "1         Serious  45.462246           13.494810  \n",
       "2         Serious  50.368139            3.720930  \n",
       "3           Happy  32.155797            1.690141  \n",
       "4         Serious  14.118921            5.989637  "
      ]
     },
     "execution_count": 101,
     "metadata": {},
     "output_type": "execute_result"
    }
   ],
   "source": [
    "df_emails.head()"
   ]
  },
  {
   "cell_type": "code",
   "execution_count": 102,
   "metadata": {},
   "outputs": [
    {
     "data": {
      "text/plain": [
       "Crieff Hydro        23\n",
       "Qhotels             22\n",
       "Apex                21\n",
       "Town and Country    17\n",
       "Name: hotel, dtype: int64"
      ]
     },
     "execution_count": 102,
     "metadata": {},
     "output_type": "execute_result"
    }
   ],
   "source": [
    "df_emails['hotel'].value_counts()"
   ]
  },
  {
   "cell_type": "code",
   "execution_count": 135,
   "metadata": {},
   "outputs": [
    {
     "data": {
      "image/png": "[encoded data removed]",
      "text/plain": [
       "<Figure size 438.5x360 with 1 Axes>"
      ]
     },
     "metadata": {},
     "output_type": "display_data"
    }
   ],
   "source": [
    "def plots_by_hotel(df_emails, hotel_name):\n",
    "    df_hotel = df_emails[df_emails['hotel']==hotel_name]\n",
    "    p1 = sns.relplot(data = df_hotel, x = 'open_rate', y = 'formality_score', hue='sentiment_label', \n",
    "                     palette = {'Happy':'royalblue','Serious':'orange','Caring': 'green', 'Fun':'red'})\n",
    "    #sns.relplot(data = df_hotel, x = 'click_to_open_rate', y = 'formality_score', hue='sentiment_label')\n",
    "    \n",
    "    b, a = np.polyfit(df_hotel['open_rate'], df_hotel['formality_score'], 1)\n",
    "    ax = p1.axes[0,0]\n",
    "    ax.plot(df_hotel['open_rate'], a + b*df_hotel['open_rate'], '-', color ='purple', alpha = 0.7)\n",
    "                            \n",
    "    plt.title(f'Customer engagement VS formality score for the {hotel_name} hotel')\n",
    "    plt.show()\n",
    "    return \n",
    "\n",
    "plots_by_hotel(df_emails,'Qhotels')"
   ]
  },
  {
   "cell_type": "code",
   "execution_count": 136,
   "metadata": {},
   "outputs": [
    {
     "data": {
      "image/png": "[encoded data removed]",
      "text/plain": [
       "<Figure size 438.5x360 with 1 Axes>"
      ]
     },
     "metadata": {},
     "output_type": "display_data"
    }
   ],
   "source": [
    "plots_by_hotel(df_emails,'Apex')"
   ]
  },
  {
   "cell_type": "code",
   "execution_count": 137,
   "metadata": {},
   "outputs": [
    {
     "data": {
      "image/png": "[encoded data removed]",
      "text/plain": [
       "<Figure size 438.5x360 with 1 Axes>"
      ]
     },
     "metadata": {},
     "output_type": "display_data"
    }
   ],
   "source": [
    "plots_by_hotel(df_emails,'Crieff Hydro')"
   ]
  },
  {
   "cell_type": "code",
   "execution_count": 138,
   "metadata": {},
   "outputs": [
    {
     "data": {
      "image/png": "[encoded data removed]",
      "text/plain": [
       "<Figure size 438.5x360 with 1 Axes>"
      ]
     },
     "metadata": {},
     "output_type": "display_data"
    }
   ],
   "source": [
    "plots_by_hotel(df_emails,'Town and Country')"
   ]
  },
  {
   "cell_type": "code",
   "execution_count": null,
   "metadata": {},
   "outputs": [],
   "source": []
  },
  {
   "cell_type": "code",
   "execution_count": null,
   "metadata": {},
   "outputs": [],
   "source": []
  }
 ],
 "metadata": {
  "kernelspec": {
   "display_name": "Python 3",
   "language": "python",
   "name": "python3"
  },
  "language_info": {
   "codemirror_mode": {
    "name": "ipython",
    "version": 3
   },
   "file_extension": ".py",
   "mimetype": "text/x-python",
   "name": "python",
   "nbconvert_exporter": "python",
   "pygments_lexer": "ipython3",
   "version": "3.8.5"
  }
 },
 "nbformat": 4,
 "nbformat_minor": 4
}
