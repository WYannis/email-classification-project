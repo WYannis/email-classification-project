{
 "cells": [
  {
   "cell_type": "code",
   "execution_count": 1,
   "metadata": {},
   "outputs": [],
   "source": [
    "from bs4 import BeautifulSoup\n",
    "import nltk\n",
    "import pandas as pd\n",
    "import pickle as pk\n",
    "import requests"
   ]
  },
  {
   "cell_type": "code",
   "execution_count": 2,
   "metadata": {},
   "outputs": [],
   "source": [
    "df_emails = pd.read_csv(\"emails.csv\", header=0, sep=',')"
   ]
  },
  {
   "cell_type": "code",
   "execution_count": 3,
   "metadata": {},
   "outputs": [
    {
     "data": {
      "text/html": [
       "<div>\n",
       "<style scoped>\n",
       "    .dataframe tbody tr th:only-of-type {\n",
       "        vertical-align: middle;\n",
       "    }\n",
       "\n",
       "    .dataframe tbody tr th {\n",
       "        vertical-align: top;\n",
       "    }\n",
       "\n",
       "    .dataframe thead th {\n",
       "        text-align: right;\n",
       "    }\n",
       "</style>\n",
       "<table border=\"1\" class=\"dataframe\">\n",
       "  <thead>\n",
       "    <tr style=\"text-align: right;\">\n",
       "      <th></th>\n",
       "      <th>campaign title</th>\n",
       "      <th>hotel</th>\n",
       "      <th>total number of delivers</th>\n",
       "      <th>unique opens</th>\n",
       "      <th>unique clicks</th>\n",
       "      <th>html__url</th>\n",
       "    </tr>\n",
       "  </thead>\n",
       "  <tbody>\n",
       "    <tr>\n",
       "      <th>0</th>\n",
       "      <td>Waterloo Place_autumn promo email_opred in to ...</td>\n",
       "      <td>Apex</td>\n",
       "      <td>1884</td>\n",
       "      <td>812</td>\n",
       "      <td>105</td>\n",
       "      <td>https://newsapexhotels.co.uk/t/17UA-5U6OI-C885...</td>\n",
       "    </tr>\n",
       "    <tr>\n",
       "      <th>1</th>\n",
       "      <td>Waterloo Place_autumn promo email_27Aug18</td>\n",
       "      <td>Apex</td>\n",
       "      <td>8264</td>\n",
       "      <td>3757</td>\n",
       "      <td>507</td>\n",
       "      <td>https://newsapexhotels.co.uk/t/17UA-5TUDG-C885...</td>\n",
       "    </tr>\n",
       "    <tr>\n",
       "      <th>2</th>\n",
       "      <td>Apex - Dundee - Mix of offers - Promo -VADUNDE...</td>\n",
       "      <td>Apex</td>\n",
       "      <td>2988</td>\n",
       "      <td>1505</td>\n",
       "      <td>56</td>\n",
       "      <td>https://newsapexhotels.co.uk/t/17UA-5SNCI-C885...</td>\n",
       "    </tr>\n",
       "    <tr>\n",
       "      <th>3</th>\n",
       "      <td>Apex - London - Mix of offers - Promo - Generi...</td>\n",
       "      <td>Apex</td>\n",
       "      <td>2208</td>\n",
       "      <td>710</td>\n",
       "      <td>12</td>\n",
       "      <td>https://newsapexhotels.co.uk/t/17UA-5QCB3-C885...</td>\n",
       "    </tr>\n",
       "    <tr>\n",
       "      <th>4</th>\n",
       "      <td>Apex - Group - Gift Vouchers - Promo - Any Col...</td>\n",
       "      <td>Apex</td>\n",
       "      <td>34174</td>\n",
       "      <td>4825</td>\n",
       "      <td>289</td>\n",
       "      <td>https://newsapexhotels.co.uk/t/17UA-5ICIV-C885...</td>\n",
       "    </tr>\n",
       "  </tbody>\n",
       "</table>\n",
       "</div>"
      ],
      "text/plain": [
       "                                      campaign title hotel  \\\n",
       "0  Waterloo Place_autumn promo email_opred in to ...  Apex   \n",
       "1          Waterloo Place_autumn promo email_27Aug18  Apex   \n",
       "2  Apex - Dundee - Mix of offers - Promo -VADUNDE...  Apex   \n",
       "3  Apex - London - Mix of offers - Promo - Generi...  Apex   \n",
       "4  Apex - Group - Gift Vouchers - Promo - Any Col...  Apex   \n",
       "\n",
       "   total number of delivers  unique opens  unique clicks  \\\n",
       "0                      1884           812            105   \n",
       "1                      8264          3757            507   \n",
       "2                      2988          1505             56   \n",
       "3                      2208           710             12   \n",
       "4                     34174          4825            289   \n",
       "\n",
       "                                           html__url  \n",
       "0  https://newsapexhotels.co.uk/t/17UA-5U6OI-C885...  \n",
       "1  https://newsapexhotels.co.uk/t/17UA-5TUDG-C885...  \n",
       "2  https://newsapexhotels.co.uk/t/17UA-5SNCI-C885...  \n",
       "3  https://newsapexhotels.co.uk/t/17UA-5QCB3-C885...  \n",
       "4  https://newsapexhotels.co.uk/t/17UA-5ICIV-C885...  "
      ]
     },
     "execution_count": 3,
     "metadata": {},
     "output_type": "execute_result"
    }
   ],
   "source": [
    "df_emails.head()"
   ]
  },
  {
   "cell_type": "code",
   "execution_count": 4,
   "metadata": {},
   "outputs": [
    {
     "name": "stdout",
     "output_type": "stream",
     "text": [
      "<class 'pandas.core.frame.DataFrame'>\n",
      "RangeIndex: 83 entries, 0 to 82\n",
      "Data columns (total 6 columns):\n",
      " #   Column                    Non-Null Count  Dtype \n",
      "---  ------                    --------------  ----- \n",
      " 0   campaign title            83 non-null     object\n",
      " 1   hotel                     83 non-null     object\n",
      " 2   total number of delivers  83 non-null     int64 \n",
      " 3   unique opens              83 non-null     int64 \n",
      " 4   unique clicks             83 non-null     int64 \n",
      " 5   html__url                 83 non-null     object\n",
      "dtypes: int64(3), object(3)\n",
      "memory usage: 4.0+ KB\n"
     ]
    }
   ],
   "source": [
    "df_emails.info()"
   ]
  },
  {
   "cell_type": "code",
   "execution_count": 5,
   "metadata": {},
   "outputs": [],
   "source": [
    "df_emails['html__url'] = df_emails['html__url'].apply(lambda x:str(x))"
   ]
  },
  {
   "cell_type": "code",
   "execution_count": 6,
   "metadata": {},
   "outputs": [
    {
     "data": {
      "text/plain": [
       "'https://newsapexhotels.co.uk/t/17UA-5U6OI-C8856C107F0838025U8AC795353E7D6C90A875/cr.aspx?v=0'"
      ]
     },
     "execution_count": 6,
     "metadata": {},
     "output_type": "execute_result"
    }
   ],
   "source": [
    "df_emails['html__url'][0]"
   ]
  },
  {
   "cell_type": "code",
   "execution_count": 7,
   "metadata": {},
   "outputs": [],
   "source": [
    "def extract_text_from_url(email_url):\n",
    "    page = requests.get(url=email_url)\n",
    "    soup = BeautifulSoup(page.text)        \n",
    "    for script in soup([\"script\", \"style\"]):\n",
    "        script.decompose()\n",
    "    strips = list(soup.stripped_strings)\n",
    "    strips = ' '.join(strips)\n",
    "    strips = nltk.tokenize.sent_tokenize(strips)\n",
    "    return strips "
   ]
  },
  {
   "cell_type": "code",
   "execution_count": 8,
   "metadata": {},
   "outputs": [],
   "source": [
    "df_emails['text_content'] = df_emails['html__url'].apply(lambda x: extract_text_from_url(x))"
   ]
  },
  {
   "cell_type": "code",
   "execution_count": 9,
   "metadata": {},
   "outputs": [
    {
     "data": {
      "text/plain": [
       "['Play hard, nap hard | This Autumn at Waterloo Place PLUS SAVE 20% ON YOUR NEXT BREAK Forward this email to a friend View in browser DO SOMETHING DIFFERENT Edinburgh comes in to its own in autumn.',\n",
       " 'Get a piece of the rugby action at Murrayfield during the Autumn Internationals, unwind with a spa break or Hit Snooze and relax an extra hour in your cos y hotel bed as the clocks go back.',\n",
       " \"Summer's almost over, its back to school and there's 116 days left 'til Christmas.\",\n",
       " 'Pick the perfect time to do something different - autumn.',\n",
       " 'Apex Waterloo Place is the perfect location for you to eat, sleep and repeat, so book your autumn break before your calendar gets booked up with festive parties.',\n",
       " '\"Awesome view, staff and access to downtown\" Apex Waterloo Place Review - TripAdvisor, August 2018 BOOK DIRECT FOR EXTRA\\xa0BENEFITS Save up to 20% on your Edinburgh\\xa0Waterloo Place autumn break .',\n",
       " 'Plus g et a complimentary continental breakfast and upgrade on check-in*.',\n",
       " 'View autumn breaks deal Choose from a range of 60-minute Elemis treatments by PURE Spa & Beauty.',\n",
       " 'You and a companion can sleep, enjoy a lazy breakfast and unwind for just £145.',\n",
       " 'Book a spa break Try a comfy bed and a complimentary breakfast this rugby season.',\n",
       " \"If you're not a Scotland rugby fan - you can follow our handy tips on how to fake it .\",\n",
       " 'View rugby breaks deal BOOK DIRECT £10 VOUCHER FREE HIGH-SPEED WI-FI BEST RATE GUARANTEE BOOK DIRECT BEST RATE GUARANTEE Unsubscribe | Forward this email Legal Disclaimer: This e-mail is for the intended recipient only.',\n",
       " 'The opinions expressed in this message are those of the sender and not those of Apex Hotels Ltd.',\n",
       " 'If you are not the intended recipient you must not use, disclose, distribute, copy, print or rely on this email.',\n",
       " 'If you have received this message in error please delete it and any attachment.',\n",
       " 'The recipient should also check this email and any attachments for the presence of viruses.',\n",
       " 'Apex Hotels Ltd accepts no liability for any damage caused by any viruses transmitted by this email.',\n",
       " 'Apex Hotels Ltd | Registered in Scotland No.',\n",
       " '73489 | Registered Office 32 Hailes Avenue, Edinburgh, EH13 0LZ, UK We request that credit card details are not sent via email please call us direct on 0800 049 8000 * Terms and conditions: View online']"
      ]
     },
     "execution_count": 9,
     "metadata": {},
     "output_type": "execute_result"
    }
   ],
   "source": [
    "df_emails['text_content'][0]"
   ]
  },
  {
   "cell_type": "code",
   "execution_count": 10,
   "metadata": {},
   "outputs": [],
   "source": [
    "#pk.dump(df_emails, open('df_emails.pk','wb'))"
   ]
  },
  {
   "cell_type": "code",
   "execution_count": null,
   "metadata": {},
   "outputs": [],
   "source": []
  }
 ],
 "metadata": {
  "kernelspec": {
   "display_name": "Python 3",
   "language": "python",
   "name": "python3"
  },
  "language_info": {
   "codemirror_mode": {
    "name": "ipython",
    "version": 3
   },
   "file_extension": ".py",
   "mimetype": "text/x-python",
   "name": "python",
   "nbconvert_exporter": "python",
   "pygments_lexer": "ipython3",
   "version": "3.8.5"
  }
 },
 "nbformat": 4,
 "nbformat_minor": 4
}
